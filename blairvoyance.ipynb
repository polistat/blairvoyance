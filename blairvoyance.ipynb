{
 "cells": [
  {
   "cell_type": "code",
   "execution_count": 1,
   "metadata": {},
   "outputs": [],
   "source": [
    "import numpy as np\n",
    "import pandas as pd\n",
    "import sklearn\n",
    "import matplotlib.pyplot as plt\n",
    "from datetime import date\n",
    "plt.style.use('ggplot')"
   ]
  },
  {
   "cell_type": "code",
   "execution_count": 2,
   "metadata": {},
   "outputs": [
    {
     "name": "stdout",
     "output_type": "stream",
     "text": [
      "Index(['Timestamp', 'District Name (e.g. AZ-03, WA-11)', 'Final date taken',\n",
      "       'Democratic percent (Not margin, not 2-party)', 'Sample Size',\n",
      "       'Voter model',\n",
      "       'House Effects (538 correction factor, + if blue arrow, - if red arrow)',\n",
      "       'Pollster Grade https://projects.fivethirtyeight.com/pollster-ratings/ (Put D if N/A)',\n",
      "       'Republican percent (Not margin, not 2-party)', 'Pollster Name'],\n",
      "      dtype='object')\n"
     ]
    }
   ],
   "source": [
    "districts = list(pd.read_csv('districts.csv', header=None).iloc[:,0])\n",
    "poll_df = pd.read_excel('PoliStat polls (Responses).xlsx', sheet='Form Responses 1')\n",
    "\n",
    "print(poll_df.columns)"
   ]
  },
  {
   "cell_type": "code",
   "execution_count": 11,
   "metadata": {},
   "outputs": [
    {
     "name": "stdout",
     "output_type": "stream",
     "text": [
      "maxlen: 9\n"
     ]
    }
   ],
   "source": [
    "WEIGHTS = {'A': 1,\n",
    "           'B': 2,\n",
    "           'C': 3,\n",
    "           'D': 4}\n",
    "\n",
    "polls = {district: [] for district in districts}\n",
    "for index, row in poll_df.iterrows():\n",
    "    pv = row['Democratic percent (Not margin, not 2-party)']\n",
    "    grade = WEIGHTS[row['Pollster Grade https://projects.fivethirtyeight.com/pollster-ratings/ (Put D if N/A)']]\n",
    "    \n",
    "    year = int(str(row['Final date taken']).split(' ')[0].split('-')[0])\n",
    "    month = int(str(row['Final date taken']).split(' ')[0].split('-')[1])\n",
    "    day = int(str(row['Final date taken']).split(' ')[0].split('-')[2])\n",
    "    d0 = date(year, month, day)\n",
    "    d1 = date(2018, 11, 6)\n",
    "    days = d1 - d0\n",
    "    days = days.days\n",
    "    \n",
    "    ssize = row['Sample Size']\n",
    "    \n",
    "    polls[row['District Name (e.g. AZ-03, WA-11)']].append([pv, grade, days, ssize])\n",
    "    \n",
    "maxlen = 0\n",
    "for poll in polls:\n",
    "    if len(polls[poll]) > maxlen:\n",
    "        maxlen = len(polls[poll])\n",
    "\n"
   ]
  },
  {
   "cell_type": "code",
   "execution_count": 7,
   "metadata": {},
   "outputs": [],
   "source": [
    "# Prior to Python 3.6, dicts do not preserve order and this output will not preserve district order\n",
    "# Run this thing in 3.6+ (the way this notebook is currently configured to run) or suffer.\n",
    "for poll in polls:\n",
    "    if len(polls[poll]) > 0:\n",
    "        rep = np.array(polls[poll])\n",
    "        polls[poll] = np.average(rep[:,0], weights=rep[:,1])\n",
    "    else:\n",
    "        polls[poll] = 999\n",
    "with open('ppoll.csv', 'w') as f:\n",
    "    [f.write('{0},{1}\\n'.format(key, value)) for key, value in polls.items()]"
   ]
  },
  {
   "cell_type": "code",
   "execution_count": 10,
   "metadata": {},
   "outputs": [],
   "source": [
    "lhm = pd.read_excel('l_handmod.xlsx', sheet='Sheet 1', header=None)\n",
    "lhm.columns = ['Name'] + ['S' + str(rep).zfill(3) for rep in range(lhm.shape[1] - 1)]"
   ]
  },
  {
   "cell_type": "code",
   "execution_count": null,
   "metadata": {},
   "outputs": [],
   "source": [
    "def train(dset):\n",
    "    "
   ]
  }
 ],
 "metadata": {
  "kernelspec": {
   "display_name": "Python 3",
   "language": "python",
   "name": "python3"
  },
  "language_info": {
   "codemirror_mode": {
    "name": "ipython",
    "version": 3
   },
   "file_extension": ".py",
   "mimetype": "text/x-python",
   "name": "python",
   "nbconvert_exporter": "python",
   "pygments_lexer": "ipython3",
   "version": "3.7.0"
  }
 },
 "nbformat": 4,
 "nbformat_minor": 2
}
