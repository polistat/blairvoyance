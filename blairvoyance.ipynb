{
 "cells": [
  {
   "cell_type": "markdown",
   "metadata": {},
   "source": [
    "# Introduction\n",
    "\n",
    "We want our model to estimate election outcomes based on the fundamentals and poll data. Thus, we need a \"poll feature\" for each district upon which to train. Unfortunately, many districts do not have poll data. We overcome this by interpolating poll results for districts that do not have polls from districts that do have polls based on districts' similarity in demographics and historical election results."
   ]
  },
  {
   "cell_type": "code",
   "execution_count": 1,
   "metadata": {},
   "outputs": [
    {
     "name": "stdout",
     "output_type": "stream",
     "text": [
      "starting\n",
      "done\n"
     ]
    }
   ],
   "source": [
    "print('starting')\n",
    "\n",
    "import pandas as pd\n",
    "import numpy as np\n",
    "import scipy.cluster\n",
    "import scipy.interpolate\n",
    "from scipy import stats\n",
    "from sklearn.metrics import mean_squared_error as mse, mean_absolute_error as mae\n",
    "import matplotlib.pyplot as plt\n",
    "from datetime import date\n",
    "import thinkbayes2\n",
    "\n",
    "plt.style.use('ggplot')\n",
    "\n",
    "print('done')"
   ]
  },
  {
   "cell_type": "code",
   "execution_count": 2,
   "metadata": {},
   "outputs": [
    {
     "name": "stdout",
     "output_type": "stream",
     "text": [
      "starting\n",
      "Done\n"
     ]
    }
   ],
   "source": [
    "print('starting')\n",
    "\n",
    "WEIGHTS = {'A': .177,\n",
    "           'B': .151,\n",
    "           'C': .130,\n",
    "           'D': .077}\n",
    "\n",
    "DAYDIV = 167\n",
    "\n",
    "print('Done')"
   ]
  },
  {
   "cell_type": "code",
   "execution_count": 3,
   "metadata": {},
   "outputs": [
    {
     "name": "stdout",
     "output_type": "stream",
     "text": [
      "starting\n",
      "Done\n"
     ]
    }
   ],
   "source": [
    "print('starting')\n",
    "\n",
    "class Electorate(thinkbayes2.Suite):\n",
    "    '''Represents hypotheses about the state of the electorate'''\n",
    "    \n",
    "    def Likelihood(self, data, hypo):\n",
    "        '''\n",
    "        Likelihood of the data under the hypothesis.\n",
    "\n",
    "        hypo: fraction of the population\n",
    "        data: poll results\n",
    "        '''\n",
    "        bias, std, result = data\n",
    "        error = result - hypo\n",
    "        like = thinkbayes2.EvalNormalPdf(error, bias, std)\n",
    "        return like\n",
    "\n",
    "class PollAggregator:\n",
    "    '''Estimator of the poll distributions'''\n",
    "    \n",
    "    \n",
    "    def __init__(self, N=1000):\n",
    "        self.suite = Electorate(np.linspace(0, 1, N))\n",
    "        self.poll_vals = []\n",
    "        self.poll_sizes = []\n",
    "    \n",
    "    \n",
    "    def update(self, val, grade, nsamp, days):\n",
    "        self.poll_vals.append(val)\n",
    "        self.poll_sizes.append(nsamp)\n",
    "        \n",
    "        pvs = np.array(self.poll_vals)\n",
    "        pss = np.array(self.poll_sizes)\n",
    "        stdev_shift = np.mean(np.sqrt(pvs * (1 - pvs) / pss))\n",
    "        \n",
    "        stdev = np.sqrt(val * (1 - val) / nsamp) + 0.01 / WEIGHTS[grade] - stdev_shift\n",
    "        \n",
    "        data = 0, stdev, val\n",
    "        self.suite.Update(data)\n",
    "        \n",
    "        \n",
    "    def display(self):\n",
    "        pmf = np.array(list(self.suite.Items()))\n",
    "        plt.plot(pmf[:,0], pmf[:,1])\n",
    "    \n",
    "    def e_val(self):\n",
    "        pmf = np.array(list(self.suite.Items()))\n",
    "        return np.dot(pmf[:,0], pmf[:,1])\n",
    "    \n",
    "print('Done')"
   ]
  },
  {
   "cell_type": "code",
   "execution_count": 4,
   "metadata": {},
   "outputs": [
    {
     "name": "stdout",
     "output_type": "stream",
     "text": [
      "starting\n",
      "Done\n"
     ]
    }
   ],
   "source": [
    "print('starting')\n",
    "\n",
    "districts = list(pd.read_csv('districts.csv', header=None).iloc[:,0])\n",
    "poll_df = pd.read_excel('PoliStat polls (Responses).xlsx', sheet='Form Responses 1')\n",
    "\n",
    "print('Done')"
   ]
  },
  {
   "cell_type": "code",
   "execution_count": 5,
   "metadata": {},
   "outputs": [
    {
     "name": "stdout",
     "output_type": "stream",
     "text": [
      "starting\n",
      "Done\n"
     ]
    }
   ],
   "source": [
    "print('starting')\n",
    "\n",
    "polls = {district: PollAggregator() for district in districts}\n",
    "vanilla_weights = {district: [] for district in districts}\n",
    "\n",
    "for index, row in poll_df.iterrows():\n",
    "    name = row['District Name (e.g. AZ-03, WA-11)']\n",
    "    dem = row['Democratic percent (Not margin, not 2-party)']\n",
    "    repub = row['Republican percent (Not margin, not 2-party)']\n",
    "    val = dem / (dem + repub)\n",
    "    grade = row['Pollster Grade https://projects.fivethirtyeight.com/pollster-ratings/ (Put D if N/A)']\n",
    "    \n",
    "    year = int(str(row['Final date taken']).split(' ')[0].split('-')[0])\n",
    "    month = int(str(row['Final date taken']).split(' ')[0].split('-')[1])\n",
    "    day = int(str(row['Final date taken']).split(' ')[0].split('-')[2])\n",
    "    d0 = date(year, month, day)\n",
    "    d1 = date(2018, 11, 6)\n",
    "    days = d1 - d0\n",
    "    days = days.days\n",
    "    \n",
    "    nw = np.exp(days / 30)\n",
    "    nsamp = row['Sample Size']\n",
    "    \n",
    "    polls[name].update(val, grade, nsamp, days)\n",
    "    vanilla_weights[name].append(np.exp(days / 167) * WEIGHTS[grade])\n",
    "\n",
    "for vw in vanilla_weights:\n",
    "    if len(vanilla_weights[vw]) > 0:\n",
    "        vanilla_weights[vw] = 1.8 / np.pi * np.arctan(16.6 * np.sum(vanilla_weights[vw]))\n",
    "    else:\n",
    "        vanilla_weights[vw] = 0\n",
    "    \n",
    "print('Done')"
   ]
  },
  {
   "cell_type": "code",
   "execution_count": 6,
   "metadata": {},
   "outputs": [
    {
     "name": "stdout",
     "output_type": "stream",
     "text": [
      "starting\n",
      "Done\n"
     ]
    },
    {
     "data": {
      "image/png": "[encoded data removed]",
      "text/plain": [
       "<Figure size 432x288 with 1 Axes>"
      ]
     },
     "metadata": {
      "needs_background": "light"
     },
     "output_type": "display_data"
    }
   ],
   "source": [
    "print('starting')\n",
    "\n",
    "with open('ppoll.csv', 'w') as f:\n",
    "    for poll in polls:\n",
    "        if len(polls[poll].poll_vals) > 0:\n",
    "            f.write(poll + ',' + str((polls[poll].e_val() - 0.5) * 100) + '\\n')\n",
    "            polls[poll].display()\n",
    "        else:\n",
    "            f.write(poll + ',' + '0\\n')\n",
    "            \n",
    "print('Done')"
   ]
  },
  {
   "cell_type": "markdown",
   "metadata": {},
   "source": [
    "# Input Data\n",
    "\n",
    "We will now interpolate real polls based on a large range of input features. We predict based on ProximityOne's [demographic data by congressional district](http://proximityone.com/cd.htm). Specifically, we input a hand-selected set of [social characteristics](http://proximityone.com/cd161dp2.htm).\n",
    "\n",
    "We partition this data set into districts that have polls and districts that do not have polls."
   ]
  },
  {
   "cell_type": "code",
   "execution_count": 7,
   "metadata": {},
   "outputs": [
    {
     "name": "stdout",
     "output_type": "stream",
     "text": [
      "starting\n",
      "done\n"
     ]
    }
   ],
   "source": [
    "print('starting')\n",
    "\n",
    "pp = pd.read_csv('ppoll.csv', header=None)\n",
    "bf = pd.read_csv('big_fun.csv')\n",
    "df = pd.read_excel('handmod.xlsx', sheet='Sheet 1', header=None)\n",
    "\n",
    "ins = ['S' + str(rep).zfill(3) for rep in range(df.shape[1])]\n",
    "outs = ['MRAM']\n",
    "\n",
    "# Drop rows that have non-numerical data\n",
    "df.dropna(inplace=True)\n",
    "df = df[df.applymap(np.isreal).any(1)]\n",
    "df.columns = ins\n",
    "df['Name'] = districts\n",
    "df['Tmp'] = pp.iloc[:,1]\n",
    "\n",
    "# Make a copy of all the data before you drop the districts without polls\n",
    "raw = df.copy(deep=True)\n",
    "\n",
    "# Drop rows that down have MRAM\n",
    "# df['MRAM'] = (50 + df['Tmp']) / 100 - bf['Fund only']\n",
    "df['MRAM'] = (50 + df['Tmp']) / 100 - 0.5\n",
    "df = df[df['Tmp'] != 0]\n",
    "df = df[df['Name'].str.get(0) + df['Name'].str.get(1) != 'PA']\n",
    "\n",
    "print('done')"
   ]
  },
  {
   "cell_type": "markdown",
   "metadata": {},
   "source": [
    "# Training the Interpolator\n",
    "\n",
    "We perform the interpolation using [radial basis function interpolation](http://num.math.uni-goettingen.de/schaback/teaching/sc.pdf) (RBF interpolation). Given a set of training points, the interpolator will learn a function to guess values for districts that do not have polls."
   ]
  },
  {
   "cell_type": "code",
   "execution_count": 8,
   "metadata": {},
   "outputs": [
    {
     "name": "stdout",
     "output_type": "stream",
     "text": [
      "starting\n",
      "done\n"
     ]
    }
   ],
   "source": [
    "print('starting')\n",
    "\n",
    "def gen_interpolator(df_train, _ins, _outs):\n",
    "    inrep = [np.array(df_train[rep]).astype(float) for rep in _ins]\n",
    "    outrep = [np.array(df_train[rep]).astype(float) for rep in _outs]\n",
    "    features = list(inrep) + list(outrep)\n",
    "    return scipy.interpolate.Rbf(*features)\n",
    "\n",
    "\n",
    "def validate_step(rbfi, df_validate, _ins, _outs):\n",
    "    y_pred = []\n",
    "    y_true = []\n",
    "    for index, row in df_validate.iterrows():\n",
    "        y_pred.append(rbfi(*[row[rep] for rep in _ins]))\n",
    "        y_true.append(row[outs[0]])\n",
    "\n",
    "    er = np.array(np.array(y_true) - np.array(y_pred))\n",
    "    correct = np.array([(y_pred[i] > 0.5) == (y_true[i] > 0.5) for i in range(len(y_pred))])\n",
    "    \n",
    "    return er, correct\n",
    "\n",
    "print('done')"
   ]
  },
  {
   "cell_type": "markdown",
   "metadata": {},
   "source": [
    "# Cross Validation\n",
    "\n",
    "In order to determine how good our interpolator is at guessing \"poll values\" for districts without polls, we test the interopolator on districts that do have polls. We do this by training the interpolator on a training data set that excludes some of the districts with polls, then uses that test interpolator to predict the poll values for the districts that were excluded. We may then compare the predicted values with the actual poll values, giving the error of our interpolation.\n",
    "\n",
    "Here we split the available data into $\\frac{114}{435}$ since when we go to predict the real polls, we have polls for 114 of the 435 districts."
   ]
  },
  {
   "cell_type": "code",
   "execution_count": null,
   "metadata": {},
   "outputs": [
    {
     "name": "stdout",
     "output_type": "stream",
     "text": [
      "starting\n",
      "- 0.0% -- 10.0% -- 20.0% -- 30.0% -- 40.0% -- 50.0% -- 60.0% -"
     ]
    }
   ],
   "source": [
    "print('starting')\n",
    "\n",
    "totcor = 0\n",
    "er_all = []\n",
    "correct_all = []\n",
    "\n",
    "N = 1000\n",
    "for k in range(N):\n",
    "    # Randomly select training \n",
    "    ridx = np.random.rand(len(df)) < 114 / 435 # 50% True 50% False\n",
    "    df_train = df[ridx]\n",
    "    df_validate = df[~ridx]\n",
    "    \n",
    "    rbfi = gen_interpolator(df_train, ins, outs)\n",
    "    er, correct = validate_step(rbfi, df_validate, ins, outs)\n",
    "    \n",
    "    er_all.extend(er)\n",
    "    correct_all.extend(correct)\n",
    "    \n",
    "    if k % (N / 10) == 0:\n",
    "        print('- ' + str(k / N * 100) + '% -', end='')\n",
    "\n",
    "print()\n",
    "print('\\n\\nFraction of Races Predicted Correctly: ' + str(np.sum(correct_all) / len(correct_all)))\n",
    "print('Mean Squared Prediction Error: ' + str(np.mean(np.array(er_all) ** 2)))\n",
    "print('Mean Absolute Prediction Error: ' + str(np.mean(np.abs(er_all))))\n",
    "print('Mean Prediction Error: ' + str(np.mean(er_all)))\n",
    "print('Stdev Prediction Error: ' + str(np.std(er_all)))\n",
    "\n",
    "plt.hist(er_all)\n",
    "plt.xlabel('Error')\n",
    "plt.ylabel('Frequency')\n",
    "plt.title('Prediction Error (Histogram)')\n",
    "plt.show()\n",
    "\n",
    "res = stats.probplot(er_all, plot=plt)\n",
    "plt.title('Prediction Error (Normal Probability Plot)')\n",
    "plt.show()\n",
    "\n",
    "print('done')"
   ]
  },
  {
   "cell_type": "markdown",
   "metadata": {},
   "source": [
    "# Calculating Interpolated Weights\n",
    "\n",
    "In order to determine how much we should trust Blairvoyance and how much we should trust the fundamentals, we take a function of the cross validation error of the interpolator. Since each district has a different level of certainity, we will calculate separate weights for each district."
   ]
  },
  {
   "cell_type": "code",
   "execution_count": null,
   "metadata": {},
   "outputs": [],
   "source": [
    "print('starting')\n",
    "\n",
    "ers = []\n",
    "names = []\n",
    "for k in range(len(df)):\n",
    "    ridx = np.ones(len(df), dtype=bool)\n",
    "    ridx[k] = False\n",
    "    \n",
    "    df_train = df[ridx]\n",
    "    df_validate = df[~ridx]\n",
    "    \n",
    "    rbfi = gen_interpolator(df_train, ins, outs)\n",
    "    er, correct = validate_step(rbfi, df_validate, ins, outs)\n",
    "    \n",
    "    name = df_validate['Name'].iloc[0]\n",
    "\n",
    "    ers.append(er)\n",
    "    names.append(name)\n",
    "\n",
    "vws = np.array([vanilla_weights[name] for name in names])\n",
    "adjws = 1 / np.array(ers)\n",
    "\n",
    "aw = np.average(vws, weights=adjws[:,0])\n",
    "print('Interpolator weight: ' + str(aw))\n",
    "\n",
    "print('done')"
   ]
  },
  {
   "cell_type": "markdown",
   "metadata": {},
   "source": [
    "# Final Answer\n",
    "\n",
    "We now plug in all available data to an interpolator and interpolate all rows. Keep in mind we expect our interpolation error to be drawn from the distribution shown above."
   ]
  },
  {
   "cell_type": "code",
   "execution_count": null,
   "metadata": {},
   "outputs": [],
   "source": [
    "print('starting')\n",
    "\n",
    "rbfi = gen_interpolator(df, ins, outs)\n",
    "\n",
    "y_pred = []\n",
    "for index, row in raw.iterrows():\n",
    "    interpout = rbfi(*[row[rep] for rep in ins])\n",
    "#     y_pred.append(interpout + bf['Fund only'].iloc[index])\n",
    "    y_pred.append(interpout + 0.5)\n",
    "\n",
    "np.savetxt('out.csv', np.array(y_pred), delimiter=',')\n",
    "\n",
    "print(np.sum(np.array(y_pred) > .50) / len(y_pred))\n",
    "\n",
    "print('done')"
   ]
  },
  {
   "cell_type": "code",
   "execution_count": null,
   "metadata": {},
   "outputs": [],
   "source": []
  }
 ],
 "metadata": {
  "kernelspec": {
   "display_name": "Python 3",
   "language": "python",
   "name": "python3"
  },
  "language_info": {
   "codemirror_mode": {
    "name": "ipython",
    "version": 3
   },
   "file_extension": ".py",
   "mimetype": "text/x-python",
   "name": "python",
   "nbconvert_exporter": "python",
   "pygments_lexer": "ipython3",
   "version": "3.7.0"
  }
 },
 "nbformat": 4,
 "nbformat_minor": 2
}
