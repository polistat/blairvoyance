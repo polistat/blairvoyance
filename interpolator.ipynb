{
  "cells": [
    {
      "metadata": {
        "trusted": true,
        "scrolled": true
      },
      "cell_type": "code",
      "source": "import pandas as pd\nimport numpy as np\nimport scipy.cluster\nimport scipy.interpolate\nfrom sklearn.metrics import mean_squared_error as mse, mean_absolute_error as mae\n\nins = ['White (non-hispanic)',\n       'BachOrHigher',\n       'MedHouseholdIncome',\n       'Obama 2012 Percent',\n       'Dem 2014 Congressional Percent',\n       'Dem 2016 Congressional Percent']\nouts = ['Clinton 2016 Percent']\n\n# Open the file, drop rows that are missing relevant data\ndf_orig = pd.read_excel('2018 data sheet.xlsx', sheetname='Input data')\ndf_orig = df_orig.dropna(subset= ins + outs)\n\n# Simulate interpolating the Clinton 2016 percents given several random\n# validating sets\ntotcor = 0\ny_pred_all = []\ny_true_all = []\nfor k in range(20):\n    # Randomly select 50 validation rows; we will try to interpolate\n    # Clinton 2016 Percent without running the interpolator on these rows\n    tidx = [np.random.randint(0, len(df_orig)) for i in range(50)]\n    trows = [df_orig.iloc[idx] for idx in tidx]\n    df = df_orig.drop(df_orig.index[tidx])\n\n    # Calculate K-means and RBF interpolations\n    inrep = [df[rep] for rep in ins]\n    outrep = [df[rep] for rep in outs]\n    features = inrep + outrep\n    km = scipy.cluster.vq.kmeans(np.array(features), 30)\n    rbfi = scipy.interpolate.Rbf(*features)\n\n    y_pred = [float(rbfi(*[row[rep] for rep in ins])) for row in trows]\n    y_true = [row[outs[0]] for row in trows]\n\n    correct = []\n    for i in range(len(y_pred)):\n        correct.append((y_pred[i] > 0.5) == (y_true[i] > 0.5))\n    totcor += sum(correct) / len(y_pred)\n    y_pred_all.extend(y_pred)\n    y_true_all.extend(y_true)\n\n# This represents the expected rate at which the interpolator correctly predicts the outcome of the race\nprint('Fraction of Races Predicted Correctly: ' + str(totcor / 20))\nprint('Mean Squared Prediction Error: ' + str(mse(y_true_all, y_pred_all)))\nprint('Mean Absolute Prediction Error: ' + str(mae(y_true_all, y_pred_all)))\nprint('Stdev Prediction Error: ' + str(np.std(np.array(y_true_all) - np.array(y_pred_all))))\n",
      "execution_count": 53,
      "outputs": [
        {
          "output_type": "stream",
          "text": "Fraction of Races Predicted Correctly: 0.5479999999999999\nMean Squared Prediction Error: 0.05684779322782409\nMean Absolute Prediction Error: 0.17925785565171162\nStdev Prediction Error: 0.2380419082019354\n",
          "name": "stdout"
        }
      ]
    },
    {
      "metadata": {
        "trusted": true
      },
      "cell_type": "code",
      "source": "",
      "execution_count": null,
      "outputs": []
    }
  ],
  "metadata": {
    "kernelspec": {
      "name": "python36",
      "display_name": "Python 3.6",
      "language": "python"
    },
    "language_info": {
      "mimetype": "text/x-python",
      "nbconvert_exporter": "python",
      "name": "python",
      "pygments_lexer": "ipython3",
      "version": "3.6.6",
      "file_extension": ".py",
      "codemirror_mode": {
        "version": 3,
        "name": "ipython"
      }
    }
  },
  "nbformat": 4,
  "nbformat_minor": 2
}