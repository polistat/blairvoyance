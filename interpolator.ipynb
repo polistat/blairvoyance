{
 "cells": [
  {
   "cell_type": "markdown",
   "metadata": {},
   "source": [
    "# Introduction\n",
    "\n",
    "We want our model to estimate election outcomes based on the fundamentals and poll data. Thus, we need a \"poll feature\" for each district upon which to train. Unfortunately, many districts do not have poll data. We overcome this by interpolating poll results for districts that do not have polls from districts that do have polls based on districts' similarity in demographics and historical election results.\n",
    "\n",
    "The poll data points upon which we will interpolate are [538](https://fivethirtyeight.com/features/2018-house-forecast-methodology/)'s adjusted poll margins. We will pull the most recent adjusted margin (MRAM).\n",
    "\n",
    "We perform the interpolation using [radial basis function interpolation](http://num.math.uni-goettingen.de/schaback/teaching/sc.pdf) (RBF interpolation)."
   ]
  },
  {
   "cell_type": "code",
   "execution_count": 1,
   "metadata": {},
   "outputs": [
    {
     "name": "stdout",
     "output_type": "stream",
     "text": [
      "starting\n",
      "done\n"
     ]
    }
   ],
   "source": [
    "print('starting')\n",
    "\n",
    "import pandas as pd\n",
    "import numpy as np\n",
    "import scipy.cluster\n",
    "import scipy.interpolate\n",
    "from scipy import stats\n",
    "from sklearn.metrics import mean_squared_error as mse, mean_absolute_error as mae\n",
    "import matplotlib.pyplot as plt\n",
    "plt.style.use('ggplot')\n",
    "\n",
    "print('done')"
   ]
  },
  {
   "cell_type": "markdown",
   "metadata": {},
   "source": [
    "# Input Data\n",
    "\n",
    "We will now interpolate real polls based on a large range of input features. We predict based on ProximityOne's [demographic data by congressional district](http://proximityone.com/cd.htm). Specifically, we input a hand-selected set of [social characteristics](http://proximityone.com/cd161dp2.htm)."
   ]
  },
  {
   "cell_type": "code",
   "execution_count": 2,
   "metadata": {},
   "outputs": [
    {
     "name": "stdout",
     "output_type": "stream",
     "text": [
      "starting\n",
      "done\n"
     ]
    }
   ],
   "source": [
    "print('starting')\n",
    "\n",
    "pp = pd.read_csv('ppoll.csv', header=None)\n",
    "df = pd.read_excel('handmod.xlsx', sheet='Sheet 1', header=None)\n",
    "\n",
    "ins = ['S' + str(rep).zfill(3) for rep in range(df.shape[1])]\n",
    "outs = ['MRAM']\n",
    "\n",
    "# Drop rows that have non-numerical data\n",
    "df.dropna(inplace=True)\n",
    "df = df[df.applymap(np.isreal).any(1)]\n",
    "df.columns = ins\n",
    "df['MRAM'] = pp.iloc[:,1]\n",
    "\n",
    "# Make a copy of all the data before you drop the districts without polls\n",
    "raw = df.copy(deep=True)\n",
    "\n",
    "# Drop rows that down have MRAM\n",
    "df = df[df['MRAM'] != 0]\n",
    "\n",
    "print('done')"
   ]
  },
  {
   "cell_type": "markdown",
   "metadata": {},
   "source": [
    "# Training"
   ]
  },
  {
   "cell_type": "code",
   "execution_count": 3,
   "metadata": {},
   "outputs": [
    {
     "name": "stdout",
     "output_type": "stream",
     "text": [
      "starting\n",
      "done\n"
     ]
    }
   ],
   "source": [
    "print('starting')\n",
    "\n",
    "def gen_interpolator(df_train, _ins, _outs):\n",
    "    inrep = [np.array(df_train[rep]).astype(float) for rep in _ins]\n",
    "    outrep = [np.array(df_train[rep]).astype(float) for rep in _outs]\n",
    "    features = list(inrep) + list(outrep)\n",
    "    return scipy.interpolate.Rbf(*features)\n",
    "\n",
    "\n",
    "def validate_step(rbfi, df_validate, _ins, _outs):\n",
    "    y_pred = []\n",
    "    y_true = []\n",
    "    for index, row in df_validate.iterrows():\n",
    "        y_pred.append(rbfi(*[row[rep] for rep in _ins]))\n",
    "        y_true.append(row[outs[0]])\n",
    "\n",
    "    er = np.array(np.array(y_true) - np.array(y_pred))\n",
    "    correct = np.array([(y_pred[i] > 0.5) == (y_true[i] > 0.5) for i in range(len(y_pred))])\n",
    "    \n",
    "    return er, correct\n",
    "\n",
    "print('done')"
   ]
  },
  {
   "cell_type": "code",
   "execution_count": 4,
   "metadata": {},
   "outputs": [
    {
     "name": "stdout",
     "output_type": "stream",
     "text": [
      "starting\n",
      "- 0.0% -- 10.0% -- 20.0% -- 30.0% -- 40.0% -- 50.0% -- 60.0% -- 70.0% -- 80.0% -- 90.0% -\n",
      "done\n"
     ]
    }
   ],
   "source": [
    "print('starting')\n",
    "\n",
    "totcor = 0\n",
    "er_all = []\n",
    "correct_all = []\n",
    "\n",
    "N = 1000\n",
    "for k in range(N):\n",
    "    ridx = np.random.rand(len(df)) < 0.5 # 50% True 50% False\n",
    "    df_train = df[ridx]\n",
    "    df_validate = df[~ridx]\n",
    "    \n",
    "    rbfi = gen_interpolator(df_train, ins, outs)\n",
    "    er, correct = validate_step(rbfi, df_validate, ins, outs)\n",
    "    \n",
    "    er_all.append(er)\n",
    "    correct_all.append(correct)\n",
    "    \n",
    "    if k % (N / 10) == 0:\n",
    "        print('- ' + str(k / N * 100) + '% -', end='')\n",
    "\n",
    "print()\n",
    "print('done')"
   ]
  },
  {
   "cell_type": "markdown",
   "metadata": {},
   "source": [
    "# Validation\n",
    "\n",
    "We partition our data into training and validation sets. We train the interpolation on most of the available data points, leaving out a set of validation points. We then predict the *MRAM* of the validation points and compare to the true *MRAM*, calculating the error in our interpolation."
   ]
  },
  {
   "cell_type": "code",
   "execution_count": 5,
   "metadata": {
    "scrolled": false
   },
   "outputs": [
    {
     "name": "stdout",
     "output_type": "stream",
     "text": [
      "starting\n",
      "\n",
      "\n",
      "Fraction of Races Predicted Correctly: 0.953125\n",
      "Mean Squared Prediction Error: 62.46388953177216\n",
      "Mean Absolute Prediction Error: 5.972377278995875\n",
      "Mean Prediction Error: -0.5773195632261114\n",
      "Stdev Prediction Error: 7.882296090206747\n"
     ]
    },
    {
     "data": {
      "image/png": "[encoded data removed]",
      "text/plain": [
       "<Figure size 432x288 with 1 Axes>"
      ]
     },
     "metadata": {
      "needs_background": "light"
     },
     "output_type": "display_data"
    },
    {
     "data": {
      "image/png": "[encoded data removed]",
      "text/plain": [
       "<Figure size 432x288 with 1 Axes>"
      ]
     },
     "metadata": {
      "needs_background": "light"
     },
     "output_type": "display_data"
    },
    {
     "name": "stdout",
     "output_type": "stream",
     "text": [
      "done\n"
     ]
    }
   ],
   "source": [
    "print('starting')\n",
    "\n",
    "# This represents the expected rate at which the interpolator correctly predicts the outcome of the race\n",
    "print('\\n\\nFraction of Races Predicted Correctly: ' + str(np.sum(correct) / len(correct)))\n",
    "print('Mean Squared Prediction Error: ' + str(np.mean(er ** 2)))\n",
    "print('Mean Absolute Prediction Error: ' + str(np.mean(np.abs(er))))\n",
    "print('Mean Prediction Error: ' + str(np.mean(er)))\n",
    "print('Stdev Prediction Error: ' + str(np.std(er)))\n",
    "\n",
    "plt.hist(er)\n",
    "plt.xlabel('Error')\n",
    "plt.ylabel('Frequency')\n",
    "plt.title('Prediction Error (Histogram)')\n",
    "plt.show()\n",
    "\n",
    "res = stats.probplot(er, plot=plt)\n",
    "plt.title('Prediction Error (Normal Probability Plot)')\n",
    "plt.show()\n",
    "\n",
    "print('done')"
   ]
  },
  {
   "cell_type": "code",
   "execution_count": 6,
   "metadata": {},
   "outputs": [
    {
     "name": "stdout",
     "output_type": "stream",
     "text": [
      "starting\n",
      "[-6.94604589]\n",
      "[1.08456254]\n",
      "[11.36168361]\n",
      "[-10.64654459]\n",
      "[-17.77381737]\n",
      "[-1.41793825]\n",
      "[0.67452688]\n",
      "[-11.79672931]\n",
      "[2.79181736]\n",
      "[3.5582347]\n",
      "[-7.99561878]\n",
      "[0.87542267]\n",
      "[-0.03171825]\n",
      "[-3.58705135]\n",
      "[0.59414655]\n",
      "[-2.2806606]\n",
      "[5.51355604]\n",
      "[-0.46111586]\n",
      "[4.45335268]\n",
      "[1.36698889]\n",
      "[3.7388623]\n",
      "[0.23123199]\n",
      "[-10.39248085]\n",
      "[4.34431845]\n",
      "[-2.9081296]\n",
      "[0.69438906]\n",
      "[2.56206927]\n",
      "[-5.68440083]\n",
      "[3.43681244]\n",
      "[1.16220456]\n",
      "[-2.21527374]\n",
      "[-1.70395365]\n",
      "[-9.52367305]\n",
      "[-2.61791119]\n",
      "[-3.08486447]\n",
      "[9.67347104]\n",
      "[0.80224235]\n",
      "[-0.77061948]\n",
      "[-5.73931232]\n",
      "[6.04879878]\n",
      "[4.6241445]\n",
      "[0.79805933]\n",
      "[-5.2991115]\n",
      "[-12.20233906]\n",
      "[8.34342659]\n",
      "[6.64557546]\n",
      "[-4.19811986]\n",
      "[4.82660007]\n",
      "[29.50975333]\n",
      "[4.09008165]\n",
      "[6.85224657]\n",
      "[-5.33548301]\n",
      "[1.70468022]\n",
      "[-10.8597715]\n",
      "[2.21808314]\n",
      "[1.3809157]\n",
      "[7.2432404]\n",
      "[-11.39722139]\n",
      "[15.88484803]\n",
      "[-17.33760597]\n",
      "[3.81093988]\n",
      "[-6.05140699]\n",
      "[10.61576718]\n",
      "[-0.34772942]\n",
      "[-2.17129305]\n",
      "[6.26933888]\n",
      "[-1.99321321]\n",
      "[-10.90134822]\n",
      "[5.87318072]\n",
      "[-0.6417894]\n",
      "[7.00604206]\n",
      "[-7.90056669]\n",
      "[16.80620169]\n",
      "[0.39180461]\n",
      "[-0.90647466]\n",
      "[11.52811315]\n",
      "[-3.42024275]\n",
      "[8.42513718]\n",
      "[-1.76366344]\n",
      "[4.4936248]\n",
      "[2.70482594]\n",
      "[4.14838565]\n",
      "[-6.46158706]\n",
      "[0.02699125]\n",
      "[-0.86499819]\n",
      "[-4.87552803]\n",
      "[8.39200321]\n",
      "[-7.42387524]\n",
      "[-6.43999745]\n",
      "[0.78991644]\n",
      "[-1.93380522]\n",
      "[0.50926855]\n",
      "[8.13334179]\n",
      "[-11.0241005]\n",
      "[1.25078294]\n",
      "[18.56260626]\n",
      "[-2.2100681]\n",
      "[-1.08210108]\n",
      "[-3.69802015]\n",
      "[-2.01586271]\n",
      "[-1.96162387]\n",
      "[-12.25915217]\n",
      "[1.90597075]\n",
      "[2.8664683]\n",
      "[3.16653273]\n",
      "[-6.90856475]\n",
      "[-7.95498984]\n",
      "[-14.12364154]\n",
      "[15.89605315]\n",
      "[1.76459152]\n",
      "[-3.6354437]\n",
      "[8.69450217]\n",
      "[8.18972251]\n",
      "[4.66613791]\n",
      "[-26.83778107]\n",
      "[-11.30313374]\n",
      "[15.49523125]\n",
      "[5.26462829]\n",
      "done\n"
     ]
    }
   ],
   "source": [
    "print('starting')\n",
    "\n",
    "bads = []\n",
    "for k in range(len(df)):\n",
    "    ridx = np.ones(len(df), dtype=bool)\n",
    "    ridx[k] = False\n",
    "    \n",
    "    df_train = df[ridx]\n",
    "    df_validate = df[~ridx]\n",
    "    \n",
    "    rbfi = gen_interpolator(df_train, ins, outs)\n",
    "    er, correct = validate_step(rbfi, df_validate, ins, outs)\n",
    "    \n",
    "    bads.append(1/er)\n",
    "    \n",
    "    print(er)\n",
    "    \n",
    "print('done')"
   ]
  },
  {
   "cell_type": "markdown",
   "metadata": {},
   "source": [
    "# Final Answer\n",
    "\n",
    "We now plug in all available data to an interpolator and interpolate all rows. Keep in mind we expect our interpolation error to be drawn from the distribution shown above."
   ]
  },
  {
   "cell_type": "code",
   "execution_count": 7,
   "metadata": {},
   "outputs": [
    {
     "name": "stdout",
     "output_type": "stream",
     "text": [
      "starting\n",
      "[0.44471180040763103, 0.3242544138562573, 0.32198360247073365, 0.29294274649146645, 0.3575132468767384, 0.4077306834212388, 0.47520129052557364, 0.36110231021222605, 0.3611023102122266, 0.5, 0.42451016422150417, 0.2501528873933097, 0.3456588991691552, 0.41477242598987746, 0.44201710584419746, 0.3457661392485153, 0.4180466074101878, 0.22010346562876804, 0.41514512095289036, 0.31000044503289925, 0.2400361543385793, 0.3771667001527294, 0.47495891195194984, 0.47537163424624396, 0.3994783312010486, 0.46955566656498887, 0.496600812737355, 0.5, 0.455066731534846, 0.4920309922247679, 0.4843139800461131, 0.4965406073625877, 0.5171182840230483, 0.5256193230948327, 0.4876845597008753, 0.48211526154152123, 0.45885542835417825, 0.47646477932579956, 0.5092915461267421, 0.4758316619622792, 0.4743461698342804, 0.42455898910903445, 0.4204860525161337, 0.4684990281331085, 0.47006084705923057, 0.475061064815128, 0.48078050689675594, 0.46404495310268545, 0.4942186877315828, 0.4616738359892906, 0.4793255705330614, 0.48536978651978585, 0.45870380619774553, 0.511628834996128, 0.47150230466674886, 0.4355441671258632, 0.4478472706466289, 0.5023250927821777, 0.4708734696635702, 0.44718557433458384, 0.4458587039168242, 0.43435941204931167, 0.45455388583009837, 0.49737831458447657, 0.46654656533096045, 0.48000000000000115, 0.4576433002490603, 0.47117399734769605, 0.4800383578138866, 0.51, 0.44000000000652334, 0.4576192217466303, 0.4970878355554635, 0.48651076816662453, 0.45277578616234904, 0.387637388289391, 0.3250848564396341, 0.3143479908109191, 0.3504779025252185, 0.46168620637393704, 0.3738184005761025, 0.4913432316003468, 0.4676662550795635, 0.5173894100143502, 0.4800375185205229, 0.4769051129504032, 0.49070678079877494, 0.3130175721133628, 0.38333426756737876, 0.3915372160880344, 0.45149689594305925, 0.43748514979981223, 0.4440033446634567, 0.4700000000002899, 0.4522242811422467, 0.4807830479868994, 0.4951993500539919, 0.39784854528172503, 0.3000008931322196, 0.4527678442615229, 0.5095187980100695, 0.4757392831660758, 0.39561111682224237, 0.34427119838353176, 0.41554677886432045, 0.4200000099525238, 0.4845909255719823, 0.46855613194033763, 0.4890259242401299, 0.46611328756213255, 0.4920265717641428, 0.3751714880298107, 0.4423112802374271, 0.4436194995040978, 0.44601292441503515, 0.4090270178799898, 0.3451996518132694, 0.4965412477312799, 0.5060132770172652, 0.47006084705922774, 0.4600000000008362, 0.3740507417843878, 0.3501714177437236, 0.38658984487465603, 0.4695625436679012, 0.3858007567942633, 0.4694780394574428, 0.3680418729112807, 0.4801185358053283, 0.48685662615334935, 0.2700633612264153, 0.23034495261057772, 0.45841630345704004, 0.47649643260061225, 0.45880261240923687, 0.45635740753184106, 0.46304706493497577, 0.4309209529950158, 0.5289746876624218, 0.46608475973461394, 0.4706684759629911, 0.4537168381669608, 0.4521286023850314, 0.4145490931459659, 0.4200000000464604, 0.41000000011981796, 0.3876935054704904, 0.3416295542817915, 0.3394028146364064, 0.42350147731893517, 0.36911664058915167, 0.36301110192971237, 0.34000004801836325, 0.39321897591015953, 0.45327008140581426, 0.3933334298833682, 0.4040569732670622, 0.4201210320504265, 0.4201301687182752, 0.4665100867001007, 0.4499999999999983, 0.41551140785465973, 0.32313921886477603, 0.20379830893860118, 0.41082580804702107, 0.4835361945401121, 0.2896279377059426, 0.38426219018694496, 0.42372545258026945, 0.4568385396706236, 0.4055948352861606, 0.3722455067832624, 0.47653287663957544, 0.41511962016917664, 0.5132914711401259, 0.6199998508057059, 0.38828539828774583, 0.3326124104653985, 0.4102486376005811, 0.4501199767449282, 0.46653067810077004, 0.43582627736658425, 0.49264950493006554, 0.5278596802194329, 0.527293175728854, 0.49756321758990507, 0.48408598174472617, 0.5205720986686759, 0.49853492893560086, 0.41008073178948223, 0.476964487386665, 0.44813171160936915, 0.45818145466702787, 0.48859862974390295, 0.4646898306621, 0.5105084579604529, 0.5093417788254943, 0.4573804229425747, 0.3809559702712431, 0.3256468052623302, 0.3911783622991885, 0.3880677684778021, 0.2894446615407753, 0.42237337576894846, 0.3700002814217933, 0.4316775494706417, 0.4551438129513991, 0.45190271573305607, 0.48217477870990705, 0.3969531808745421, 0.45457556560184625, 0.4713049149716124, 0.3300001031901024, 0.47380367726254863, 0.48734805656694163, 0.4666280499919469, 0.5285936294546594, 0.42961070394556716, 0.3914761285560337, 0.4440920127494664, 0.2800397720323917, 0.5099999999629119, 0.2700633612264153, 0.37000028142179303, 0.4071113844232667, 0.4722800604535894, 0.41444927493053796, 0.39639658320887294, 0.3963442910231453, 0.40822362376735444, 0.3868013462002051, 0.37155544499461485, 0.43242226471367984, 0.26858469695869247, 0.43223673487611447, 0.3593555869544343, 0.4629281017644342, 0.3995092907323465, 0.4667702221748914, 0.43571839581353006, 0.47481508163478625, 0.4963900654283174, 0.49139498767847956, 0.46503332736037806, 0.448303166700687, 0.4212586737143096, 0.36000000971043106, 0.46395520385576444, 0.4583804345698479, 0.4807377309488413, 0.46104398771570515, 0.5220260020449655, 0.44392154408769957, 0.48316585715700855, 0.48681101936169285, 0.42853286688981485, 0.5797281151548015, 0.4400000023225738, 0.4409357144496414, 0.4759040433901907, 0.460659790955753, 0.513855815216167, 0.46355079706337166, 0.49005534398234546, 0.5541904795476728, 0.5389861164802596, 0.5180346970204244, 0.47349664510932316, 0.5337122694117034, 0.519264434109922, 0.48026858668971384, 0.48936152200635435, 0.5366910111200514, 0.46226896777333254, 0.45911370930806983, 0.45067149058780187, 0.5140035679280524, 0.4323188842182657, 0.48477591746489224, 0.4612394387186373, 0.42481440255924385, 0.5499999999999994, 0.4887787538130709, 0.45305418012558846, 0.44473127119488937, 0.4440621695059525, 0.32012399389888174, 0.49542686558329135, 0.3441468345228412, 0.4019212621660404, 0.4401598957605887, 0.4166226398190452, 0.420000000000021, 0.3782655560717268, 0.3896289678424989, 0.4596641428198711, 0.392026373652281, 0.3359424246097655, 0.42311109725667395, 0.46358892545210606, 0.45765820110136474, 0.3984858544314062, 0.40438496165005405, 0.42150893080525975, 0.41037723403169823, 0.3922639718977547, 0.3705868988082051, 0.48339286770729245, 0.454540330559808, 0.460000000000835, 0.36469746942983305, 0.45603401298070195, 0.4692922433230569, 0.4833274457251076, 0.32000021675357404, 0.3200002167535723, 0.24003615433858044, 0.2500206549988377, 0.3658694293955574, 0.3744959585937738, 0.32118264067092356, 0.43299110030395754, 0.3369559452188332, 0.3174016078319471, 0.46725206186064155, 0.5021320856810917, 0.4372676462599452, 0.3910925747264076, 0.4498293840511235, 0.44224893963272166, 0.4658215702426759, 0.4668755875580661, 0.42024569160657166, 0.4199859271438538, 0.35000002184108153, 0.4679170824331368, 0.5064407620389795, 0.4888698776809611, 0.4738173829283909, 0.43194087127810804, 0.5399999999999988, 0.47711685100686224, 0.4372233367066326, 0.4507629365417483, 0.4200000000464581, 0.3950722832987589, 0.35709961995348377, 0.4208077590443065, 0.3775064936182451, 0.443030230359027, 0.34717719698018984, 0.3300000000001057, 0.32444908577218085, 0.4279359826473717, 0.4057709824248553, 0.35820405727631055, 0.49627419802723977, 0.41549038858374276, 0.3568249243858008, 0.3465072903942968, 0.4992516634823278, 0.4046993679068788, 0.4477127222217308, 0.435713809026488, 0.32387419838875076, 0.38710240612556673, 0.39000000074424634, 0.45656099894999896, 0.37029573496970897, 0.46531876385968757, 0.36110231021222544, 0.3141006638380617, 0.3513397792005753, 0.31658264188759005, 0.40471381193179357, 0.4050944399339073, 0.40895907936533377, 0.3902391435046013, 0.4719024721654205, 0.33850277830148, 0.42460009067486, 0.27006336122641356, 0.4449970190143739, 0.43000000000000455, 0.4605270907564602, 0.35765845071276714, 0.3721585627744713, 0.40541074423638007, 0.41286092792269186, 0.4039936574850344, 0.44597432905913936, 0.36335045508892105, 0.47023049801064415, 0.4291031377810043, 0.3815155022100703, 0.40250060224958245, 0.3425386717219146, 0.20327854515448934, 0.30524124258092766, 0.19311552295712034, 0.42390420288497865, 0.4025296599518305, 0.468033573216876, 0.44332675779007163, 0.44208164521831916, 0.44464589717699937, 0.4199699060174942, 0.41032446712428283, 0.4580496073627592, 0.5147940342176418, 0.4103492612145072, 0.5044219548971569, 0.4828164969347324, 0.44608510132042795, 0.44313912809179956, 0.40468486225501155, 0.42195918687540485, 0.4305914604160643, 0.4213690566895599, 0.5098704862671889, 0.43485217222371486, 0.48115090587222425, 0.4604148237032757, 0.18639535737231883, 0.30960590927309, 0.4285283769825395, 0.43999999999999945, 0.4551787762550492, 0.3955370287283222, 0.44197008058632375, 0.4412949179030949, 0.4311551156049086, 0.45936563570543854, 0.4043739802401558, 0.34729636685971343]\n",
      "done\n"
     ]
    }
   ],
   "source": [
    "print('starting')\n",
    "\n",
    "rbfi = gen_interpolator(df, ins, outs)\n",
    "\n",
    "tidx = range(len(raw))\n",
    "trows = [raw.iloc[idx] for idx in tidx]\n",
    "y_pred = [(float(rbfi(*[row[rep] for rep in ins])) + 50) / 100 for row in trows]\n",
    "print(y_pred)\n",
    "np.savetxt('out.csv', (50 + np.array(y_pred)) / 100, delimiter=',')\n",
    "\n",
    "print('done')"
   ]
  },
  {
   "cell_type": "code",
   "execution_count": null,
   "metadata": {},
   "outputs": [],
   "source": []
  }
 ],
 "metadata": {
  "kernelspec": {
   "display_name": "Python 3",
   "language": "python",
   "name": "python3"
  },
  "language_info": {
   "codemirror_mode": {
    "name": "ipython",
    "version": 3
   },
   "file_extension": ".py",
   "mimetype": "text/x-python",
   "name": "python",
   "nbconvert_exporter": "python",
   "pygments_lexer": "ipython3",
   "version": "3.7.0"
  }
 },
 "nbformat": 4,
 "nbformat_minor": 2
}
