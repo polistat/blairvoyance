{
  "cells": [
    {
      "metadata": {},
      "cell_type": "markdown",
      "source": "# Introduction\n\nWe want our model to estimate election outcomes based on the fundamentals and poll data. Thus, we need a \"poll feature\" for each district upon which to train. Unfortunately, many districts do not have poll data. We overcome this by interpolating poll results for districts that do not have polls from districts that do have polls based on districts' similarity in demographics and historical election results. We achieve this using [radial basis function interpolation](http://num.math.uni-goettingen.de/schaback/teaching/sc.pdf) (RBF interpolation)."
    },
    {
      "metadata": {},
      "cell_type": "markdown",
      "source": "# First Estimate\n\nBefore polls are released, we may validate this interpolation method by interpolating the 2016 presidential races' outcome based on the demographic and historical data that we will use to interpolate polls."
    },
    {
      "metadata": {
        "trusted": true
      },
      "cell_type": "code",
      "source": "import pandas as pd\nimport numpy as np\nimport scipy.cluster\nimport scipy.interpolate\nfrom sklearn.metrics import mean_squared_error as mse, mean_absolute_error as mae\nimport matplotlib.pyplot as plt\nplt.style.use('ggplot')\n\n# ins = ['White (non-hispanic)',\n#        'BachOrHigher',\n#        'MedHouseholdIncome',\n#        'Obama 2012 Percent',\n#        'Dem 2014 Congressional Percent',\n#        'Dem 2016 Congressional Percent',\n#        'Clinton 2016 Percent']\n# outs = ['Most recent adjusted margin']\n\n# # Open the file, drop rows that are missing relevant data\n# df_orig = pd.read_excel('2018 data sheet.xlsx', sheetname='Input data')\n# df_orig = df_orig.dropna(subset = ins + outs)",
      "execution_count": 1,
      "outputs": []
    },
    {
      "metadata": {},
      "cell_type": "markdown",
      "source": "## Training and Validation\n\n**TODO**: get the correct number of training points corresponding to the number of available polls\n\nWe partition our data into training and validation sets. We train the interpolation on most of the available data points, leaving out a set of validation points. We then predict the *Clinton 2016 Percent* of the validation points and compare to the true *Clinton 2016 Percent*, calculating the error in our interpolation."
    },
    {
      "metadata": {
        "trusted": true,
        "scrolled": true
      },
      "cell_type": "code",
      "source": "# # Simulate interpolating the Obama 2012 percents given several random\n# # validating sets\n# totcor = 0\n# y_pred_all = []\n# y_true_all = []\n# N = 1000\n# for k in range(N):\n#     # Randomly select 50 validation rows; we will try to interpolate\n#     # Clinton 2016 Percent without running the interpolator on these rows\n#     tidx = [np.random.randint(0, len(df_orig)) for i in range(5)]\n#     trows = [df_orig.iloc[idx] for idx in tidx]\n#     df = df_orig.drop(df_orig.index[tidx])\n\n#     # Calculate RBF interpolations\n#     inrep = [np.array(df[rep]).astype(float) for rep in ins]\n#     outrep = [np.array(df[rep]).astype(float) for rep in outs]\n#     features = inrep + outrep\n#     rbfi = scipy.interpolate.Rbf(*features)\n\n#     y_pred = [float(rbfi(*[row[rep] for rep in ins])) for row in trows]\n#     y_true = [row[outs[0]] for row in trows]\n\n#     correct = []\n#     for i in range(len(y_pred)):\n#         correct.append((y_pred[i] > 0.5) == (y_true[i] > 0.5))\n#     totcor += sum(correct) / len(y_pred)\n#     y_pred_all.extend(y_pred)\n#     y_true_all.extend(y_true)\n\n# # This represents the expected rate at which the interpolator correctly predicts the outcome of the race\n# print('Fraction of Races Predicted Correctly: ' + str(totcor / N))\n# print('Mean Squared Prediction Error: ' + str(mse(y_true_all, y_pred_all)))\n# print('Mean Absolute Prediction Error: ' + str(mae(y_true_all, y_pred_all)))\n# print('Stdev Prediction Error: ' + str(np.std(np.array(y_true_all) - np.array(y_pred_all))))\n\n# plt.hist(np.array(y_true_all) - np.array(y_pred_all))\n# plt.title('y_true - y_pred')\n# plt.show()",
      "execution_count": 2,
      "outputs": []
    },
    {
      "metadata": {},
      "cell_type": "markdown",
      "source": "# Real Interpolation\n\nWe will now interpolate real polls based on a large range of input features. We predict based on ProximityOne's [demographic data by congressional district](http://proximityone.com/cd.htm).\n\n## Duplicates\n\nRBF interpolation cannot handle multiple points that any of the same coordinate. ~~Thus we must drop rows that have any duplicated values.~~"
    },
    {
      "metadata": {
        "trusted": true
      },
      "cell_type": "code",
      "source": "ins = ['S' + str(rep).zfill(3) for rep in range(1, 100)]\nouts = ['MRAM']\n\n# Load the raw data\ndf = pd.read_excel('sdata.xlsx', sheet='Sheet 1')\ndf.columns = [rep.strip() for rep in df.columns]    # fix col names\n\n# Strip non-data columns (i.e. district name)\nfor column in df.columns:\n    if not (column in ins or column in outs):\n        df.drop(column, axis=1, inplace=True)\n\n# drop rows that have non-numerical data\ndf.dropna(inplace=True)\ndf = df[df.applymap(np.isreal).any(1)]\n\ndf_orig = df\ndf.to_csv('tmp.csv', sep=',')",
      "execution_count": 46,
      "outputs": []
    },
    {
      "metadata": {
        "trusted": true
      },
      "cell_type": "code",
      "source": "def get_repeat_idxs(records_array):\n    idx_sort = np.argsort(records_array)\n    sorted_records_array = records_array[idx_sort]\n    vals, idx_start, count = np.unique(sorted_records_array, return_counts=True,\n                                    return_index=True)\n\n    # sets of indices\n    res = np.split(idx_sort, idx_start[1:])\n    #filter them with respect to their size, keeping only items occurring more than once\n\n    vals = vals[count > 1]\n    return filter(lambda x: x.size > 1, res)\n\nfor cni in range(len(ins)):\n    cn = ins[cni]\n    col = np.array(df_orig[cn])\n    repeated = list(get_repeat_idxs(col))\n    print('repeated: ' + str(repeated))\n    \n    for r in repeated:\n        for ki in range(1, len(r)):\n#             print('df.iloc[r[ki], cni]: ' + str(df.iloc[r[ki], cni + 1]))\n#             print('r[ki]: ' + str(r[ki]) + ', cni: ' + str(cni))\n            df.iloc[r[ki], cni + 1] += ki * 0.003\n#             print('df.iloc[r[ki], cni]: ' + str(df.iloc[r[ki], cni + 1]))\n#         print('Repeated Vals (modded): ' + str(np.array(df[cn])[r[0]]) + ', ' + str(np.array(df[cn])[r[1]]))\n\nfor cni in range(len(ins)):\n    cn = ins[cni]\n    col = np.array(df_orig[cn])\n    repeated = list(get_repeat_idxs(col))\n#     print('repeated: ' + str(repeated))\n    \n    for r in repeated:\n        for ki in range(1, len(r)):\n#             print('df.iloc[r[ki], cni]: ' + str(df.iloc[r[ki], cni + 1]))\n#             print('r[ki]: ' + str(r[ki]) + ', cni: ' + str(cni))\n            df.iloc[r[ki], cni + 1] += ki\n#             print('df.iloc[r[ki], cni]: ' + str(df.iloc[r[ki], cni + 1]))\n#         print('Repeated Vals (modded): ' + str(np.array(df[cn])[r[0]]) + ', ' + str(np.array(df[cn])[r[1]]))\n        ",
      "execution_count": 57,
      "outputs": [
        {
          "output_type": "stream",
          "text": "repeated: []\nrepeated: []\nrepeated: []\nrepeated: []\nrepeated: []\nrepeated: []\nrepeated: []\nrepeated: []\nrepeated: []\nrepeated: []\nrepeated: []\nrepeated: []\nrepeated: []\nrepeated: []\nrepeated: [array([37, 43]), array([48, 45]), array([58, 22]), array([50, 79]), array([ 41, 103]), array([66, 87]), array([53, 96]), array([38, 67])]\nrepeated: []\nrepeated: []\nrepeated: []\nrepeated: []\nrepeated: []\nrepeated: []\nrepeated: []\nrepeated: []\nrepeated: []\nrepeated: []\nrepeated: []\nrepeated: []\nrepeated: []\nrepeated: []\nrepeated: []\nrepeated: []\nrepeated: []\nrepeated: []\nrepeated: []\nrepeated: []\nrepeated: []\nrepeated: []\nrepeated: [array([79, 54]), array([60, 13]), array([66, 14]), array([65,  9, 16]), array([25, 33, 11]), array([12, 26, 91]), array([48, 94]), array([ 83, 100,  95]), array([93, 76, 86]), array([39, 98, 82]), array([89, 55, 87]), array([97, 68, 20]), array([47, 96, 45]), array([92, 80]), array([35, 62]), array([37, 15]), array([44, 99, 90]), array([74,  3, 10]), array([58, 70, 85, 32]), array([73, 23, 29, 46, 17]), array([ 21,  24, 101, 102,  18]), array([77, 40,  7]), array([38, 34,  4]), array([69, 57, 84, 19]), array([104,  64,   0]), array([81, 52]), array([72, 71, 67]), array([63, 56,  8]), array([ 6, 50, 28]), array([ 5, 43, 36]), array([ 22, 105]), array([41, 53]), array([78, 88])]\nrepeated: [array([59, 27]), array([25, 60, 79]), array([68, 96, 21, 82]), array([52, 45, 12]), array([61, 18, 20, 58]), array([17, 19]), array([33, 54, 80]), array([32, 40, 47]), array([26, 24, 50, 16]), array([100,  99,  57,  67]), array([55, 95, 76,  9]), array([ 10,  11, 102,  73]), array([ 48,  49, 105,  44]), array([23, 14, 56]), array([ 71, 104,   5,  85]), array([22, 89, 42, 98]), array([83,  3, 64, 69]), array([ 6,  0, 30, 36]), array([86, 72, 87, 41]), array([28, 70, 39, 78]), array([ 92,  43,   7,   2, 103]), array([35, 37, 38, 88, 81]), array([101,   4,  53]), array([46, 51, 15]), array([ 8, 34, 31]), array([77, 75, 63]), array([84, 74]), array([90, 29])]\nrepeated: [array([54, 60]), array([25, 61, 79]), array([47, 12, 19]), array([91, 30,  8]), array([46, 59, 96]), array([70, 14,  6, 98]), array([ 58,  27, 101,   7]), array([83, 57, 48, 80]), array([56, 28, 76]), array([100, 103,  87]), array([62, 65, 66, 92]), array([85, 73, 26, 32]), array([39, 82, 17, 45, 49]), array([  9, 102,  74,  81]), array([33, 90, 99, 20, 84]), array([13, 36, 68, 72, 34]), array([69,  0,  1,  3, 44]), array([53, 55,  5, 18, 42, 40]), array([21, 29, 94, 89, 10, 63]), array([ 38,  95,  37,  31, 104,  16]), array([77, 51, 86, 41]), array([71, 15, 97]), array([52, 88]), array([22, 93])]\nrepeated: [array([24, 57]), array([23, 79, 68]), array([97, 19]), array([20, 32]), array([26, 60]), array([17, 76]), array([21, 16, 87]), array([58, 82]), array([27, 14]), array([69, 56]), array([18, 86]), array([73, 37, 95]), array([ 40,  47, 100,  80]), array([45, 78]), array([ 0, 33]), array([83, 10, 88]), array([49, 92, 30,  3]), array([22, 89]), array([39, 99]), array([15, 54]), array([64, 90]), array([98,  4]), array([38, 44, 71]), array([ 42, 102]), array([ 43, 101]), array([28, 48]), array([ 6, 51]), array([93, 77, 75]), array([  8, 103]), array([46, 72, 35]), array([ 53,  34, 105]), array([ 63, 104])]\nrepeated: [array([97, 63]), array([51, 18]), array([ 5, 21]), array([ 1, 71]), array([62, 45]), array([49, 42, 82]), array([58, 99,  2]), array([ 40,  78,  43, 103]), array([41, 50,  3, 17, 16]), array([ 8, 89, 38, 68, 85]), array([39, 80, 96, 20, 28,  4]), array([54, 48, 65,  0, 75]), array([47, 95, 55, 67, 73]), array([46, 31, 79, 27, 84]), array([ 76,  66, 100,  57,   7,  32]), array([19, 64, 53, 29, 77, 72, 34]), array([98,  6, 92, 81, 69, 74]), array([60, 10, 70, 36, 56]), array([30, 59, 24, 33]), array([35,  9, 22]), array([61, 37, 91]), array([11, 25]), array([86, 13, 12]), array([93, 83, 26]), array([87, 14]), array([101,  88]), array([94, 23])]\nrepeated: []\nrepeated: []\nrepeated: []\nrepeated: []\nrepeated: [array([58, 57])]\nrepeated: []\nrepeated: []\nrepeated: []\nrepeated: []\nrepeated: []\nrepeated: []\nrepeated: []\nrepeated: []\nrepeated: []\nrepeated: []\nrepeated: []\nrepeated: []\nrepeated: []\nrepeated: []\nrepeated: []\nrepeated: []\nrepeated: []\nrepeated: []\nrepeated: [array([ 57, 102]), array([85, 13]), array([28, 80]), array([42, 29]), array([86,  1]), array([101,  98]), array([19, 58]), array([87,  6]), array([37, 76]), array([26, 95]), array([49, 66, 35]), array([60, 89]), array([ 45, 100,  38]), array([33, 83, 14, 12])]\nrepeated: [array([42, 31]), array([94, 64]), array([105,  38]), array([66, 32, 15]), array([ 6, 58])]\nrepeated: []\nrepeated: []\nrepeated: []\nrepeated: []\nrepeated: []\nrepeated: []\nrepeated: []\nrepeated: []\nrepeated: []\nrepeated: []\nrepeated: []\nrepeated: []\nrepeated: []\nrepeated: []\nrepeated: []\nrepeated: []\nrepeated: []\nrepeated: []\nrepeated: []\nrepeated: []\nrepeated: []\nrepeated: []\nrepeated: []\nrepeated: []\nrepeated: []\nrepeated: []\nrepeated: []\nrepeated: []\nrepeated: []\nrepeated: []\nrepeated: []\nrepeated: []\n",
          "name": "stdout"
        }
      ]
    },
    {
      "metadata": {
        "trusted": true
      },
      "cell_type": "code",
      "source": "# remove rows with NAs in relevant input columns (includes districts without polls)\ndf_orig = df_orig.dropna(subset = ins)\n# remove rows with NAs in all relevant columns (doesn't include districts without polls)\ndf_valued = df_orig.dropna(subset = ins + outs)\n\n# print('len(df_valued): ' + str(len(df_valued)))\n\n# Validate interpolation on many partitions\ntotcor = 0\ny_pred_all = []\ny_true_all = []\nN = 10\nfor k in range(N):\n    tidx = [np.random.randint(0, len(df_valued)) for i in range(50)]\n    trows = [df_valued.iloc[idx] for idx in tidx]\n    df_train = df_valued.drop(df_valued.index[tidx])\n    \n    inrep = [np.array(df_train[rep]).astype(float) for rep in ins]\n    outrep = [np.array(df_train[rep]).astype(float) for rep in outs]\n    features = inrep + outrep\n    rbfi = scipy.interpolate.Rbf(*features)\n    \n    y_pred = [float(rbfi(*[row[rep] for rep in ins])) for row in trows]\n    y_true = [row[outs[0]] for row in trows]\n\n    correct = []\n    for i in range(len(y_pred)):\n        correct.append((y_pred[i] > 0.5) == (y_true[i] > 0.5))\n    totcor += sum(correct) / len(y_pred)\n    y_pred_all.extend(y_pred)\n    y_true_all.extend(correct)\n\n# This represents the expected rate at which the interpolator correctly predicts the outcome of the race\nprint('Fraction of Races Predicted Correctly: ' + str(totcor / N))\nprint('Mean Squared Prediction Error: ' + str(mse(y_true_all, y_pred_all)))\nprint('Mean Absolute Prediction Error: ' + str(mae(y_true_all, y_pred_all)))\nprint('Stdev Prediction Error: ' + str(np.std(np.array(y_true_all) - np.array(y_pred_all))))\n\nplt.hist(np.array(y_true_all) - np.array(y_pred_all))\nplt.title('y_true - y_pred')\nplt.show()\nnp.savetxt('ypred.csv', y_pred, delimiter=',')",
      "execution_count": 51,
      "outputs": [
        {
          "output_type": "stream",
          "text": "/home/nbuser/anaconda3_501/lib/python3.6/site-packages/numpy/core/fromnumeric.py:83: RuntimeWarning: overflow encountered in reduce\n  return ufunc.reduce(obj, axis, dtype, out, **passkwargs)\n",
          "name": "stderr"
        },
        {
          "output_type": "error",
          "ename": "LinAlgError",
          "evalue": "Matrix is singular.",
          "traceback": [
            "\u001b[0;31m---------------------------------------------------------------------------\u001b[0m",
            "\u001b[0;31mLinAlgError\u001b[0m                               Traceback (most recent call last)",
            "\u001b[0;32m<ipython-input-51-a9e454d2cdd8>\u001b[0m in \u001b[0;36m<module>\u001b[0;34m()\u001b[0m\n\u001b[1;32m     19\u001b[0m     \u001b[0moutrep\u001b[0m \u001b[0;34m=\u001b[0m \u001b[0;34m[\u001b[0m\u001b[0mnp\u001b[0m\u001b[0;34m.\u001b[0m\u001b[0marray\u001b[0m\u001b[0;34m(\u001b[0m\u001b[0mdf_train\u001b[0m\u001b[0;34m[\u001b[0m\u001b[0mrep\u001b[0m\u001b[0;34m]\u001b[0m\u001b[0;34m)\u001b[0m\u001b[0;34m.\u001b[0m\u001b[0mastype\u001b[0m\u001b[0;34m(\u001b[0m\u001b[0mfloat\u001b[0m\u001b[0;34m)\u001b[0m \u001b[0;32mfor\u001b[0m \u001b[0mrep\u001b[0m \u001b[0;32min\u001b[0m \u001b[0mouts\u001b[0m\u001b[0;34m]\u001b[0m\u001b[0;34m\u001b[0m\u001b[0m\n\u001b[1;32m     20\u001b[0m     \u001b[0mfeatures\u001b[0m \u001b[0;34m=\u001b[0m \u001b[0minrep\u001b[0m \u001b[0;34m+\u001b[0m \u001b[0moutrep\u001b[0m\u001b[0;34m\u001b[0m\u001b[0m\n\u001b[0;32m---> 21\u001b[0;31m     \u001b[0mrbfi\u001b[0m \u001b[0;34m=\u001b[0m \u001b[0mscipy\u001b[0m\u001b[0;34m.\u001b[0m\u001b[0minterpolate\u001b[0m\u001b[0;34m.\u001b[0m\u001b[0mRbf\u001b[0m\u001b[0;34m(\u001b[0m\u001b[0;34m*\u001b[0m\u001b[0mfeatures\u001b[0m\u001b[0;34m)\u001b[0m\u001b[0;34m\u001b[0m\u001b[0m\n\u001b[0m\u001b[1;32m     22\u001b[0m \u001b[0;34m\u001b[0m\u001b[0m\n\u001b[1;32m     23\u001b[0m     \u001b[0my_pred\u001b[0m \u001b[0;34m=\u001b[0m \u001b[0;34m[\u001b[0m\u001b[0mfloat\u001b[0m\u001b[0;34m(\u001b[0m\u001b[0mrbfi\u001b[0m\u001b[0;34m(\u001b[0m\u001b[0;34m*\u001b[0m\u001b[0;34m[\u001b[0m\u001b[0mrow\u001b[0m\u001b[0;34m[\u001b[0m\u001b[0mrep\u001b[0m\u001b[0;34m]\u001b[0m \u001b[0;32mfor\u001b[0m \u001b[0mrep\u001b[0m \u001b[0;32min\u001b[0m \u001b[0mins\u001b[0m\u001b[0;34m]\u001b[0m\u001b[0;34m)\u001b[0m\u001b[0;34m)\u001b[0m \u001b[0;32mfor\u001b[0m \u001b[0mrow\u001b[0m \u001b[0;32min\u001b[0m \u001b[0mtrows\u001b[0m\u001b[0;34m]\u001b[0m\u001b[0;34m\u001b[0m\u001b[0m\n",
            "\u001b[0;32m~/anaconda3_501/lib/python3.6/site-packages/scipy/interpolate/rbf.py\u001b[0m in \u001b[0;36m__init__\u001b[0;34m(self, *args, **kwargs)\u001b[0m\n\u001b[1;32m    220\u001b[0m \u001b[0;34m\u001b[0m\u001b[0m\n\u001b[1;32m    221\u001b[0m         \u001b[0mself\u001b[0m\u001b[0;34m.\u001b[0m\u001b[0mA\u001b[0m \u001b[0;34m=\u001b[0m \u001b[0mself\u001b[0m\u001b[0;34m.\u001b[0m\u001b[0m_init_function\u001b[0m\u001b[0;34m(\u001b[0m\u001b[0mr\u001b[0m\u001b[0;34m)\u001b[0m \u001b[0;34m-\u001b[0m \u001b[0mnp\u001b[0m\u001b[0;34m.\u001b[0m\u001b[0meye\u001b[0m\u001b[0;34m(\u001b[0m\u001b[0mself\u001b[0m\u001b[0;34m.\u001b[0m\u001b[0mN\u001b[0m\u001b[0;34m)\u001b[0m\u001b[0;34m*\u001b[0m\u001b[0mself\u001b[0m\u001b[0;34m.\u001b[0m\u001b[0msmooth\u001b[0m\u001b[0;34m\u001b[0m\u001b[0m\n\u001b[0;32m--> 222\u001b[0;31m         \u001b[0mself\u001b[0m\u001b[0;34m.\u001b[0m\u001b[0mnodes\u001b[0m \u001b[0;34m=\u001b[0m \u001b[0mlinalg\u001b[0m\u001b[0;34m.\u001b[0m\u001b[0msolve\u001b[0m\u001b[0;34m(\u001b[0m\u001b[0mself\u001b[0m\u001b[0;34m.\u001b[0m\u001b[0mA\u001b[0m\u001b[0;34m,\u001b[0m \u001b[0mself\u001b[0m\u001b[0;34m.\u001b[0m\u001b[0mdi\u001b[0m\u001b[0;34m)\u001b[0m\u001b[0;34m\u001b[0m\u001b[0m\n\u001b[0m\u001b[1;32m    223\u001b[0m \u001b[0;34m\u001b[0m\u001b[0m\n\u001b[1;32m    224\u001b[0m     \u001b[0;32mdef\u001b[0m \u001b[0m_call_norm\u001b[0m\u001b[0;34m(\u001b[0m\u001b[0mself\u001b[0m\u001b[0;34m,\u001b[0m \u001b[0mx1\u001b[0m\u001b[0;34m,\u001b[0m \u001b[0mx2\u001b[0m\u001b[0;34m)\u001b[0m\u001b[0;34m:\u001b[0m\u001b[0;34m\u001b[0m\u001b[0m\n",
            "\u001b[0;32m~/anaconda3_501/lib/python3.6/site-packages/scipy/linalg/basic.py\u001b[0m in \u001b[0;36msolve\u001b[0;34m(a, b, sym_pos, lower, overwrite_a, overwrite_b, debug, check_finite, assume_a, transposed)\u001b[0m\n\u001b[1;32m    217\u001b[0m         \u001b[0;32mreturn\u001b[0m \u001b[0mx\u001b[0m\u001b[0;34m\u001b[0m\u001b[0m\n\u001b[1;32m    218\u001b[0m     \u001b[0;32melif\u001b[0m \u001b[0;36m0\u001b[0m \u001b[0;34m<\u001b[0m \u001b[0minfo\u001b[0m \u001b[0;34m<=\u001b[0m \u001b[0mn\u001b[0m\u001b[0;34m:\u001b[0m\u001b[0;34m\u001b[0m\u001b[0m\n\u001b[0;32m--> 219\u001b[0;31m         \u001b[0;32mraise\u001b[0m \u001b[0mLinAlgError\u001b[0m\u001b[0;34m(\u001b[0m\u001b[0;34m'Matrix is singular.'\u001b[0m\u001b[0;34m)\u001b[0m\u001b[0;34m\u001b[0m\u001b[0m\n\u001b[0m\u001b[1;32m    220\u001b[0m     \u001b[0;32melif\u001b[0m \u001b[0minfo\u001b[0m \u001b[0;34m>\u001b[0m \u001b[0mn\u001b[0m\u001b[0;34m:\u001b[0m\u001b[0;34m\u001b[0m\u001b[0m\n\u001b[1;32m    221\u001b[0m         warnings.warn('scipy.linalg.solve\\nIll-conditioned matrix detected.'\n",
            "\u001b[0;31mLinAlgError\u001b[0m: Matrix is singular."
          ]
        }
      ]
    },
    {
      "metadata": {
        "trusted": true
      },
      "cell_type": "code",
      "source": "# df_train = df_orig.dropna(subset = ins + outs)\n# df_calc = df_orig.dropna(subset = ins)\n\n# inrep = [np.array(df_train[rep]).astype(float) for rep in ins]\n# outrep = [np.array(df_train[rep]).astype(float) for rep in outs]\n# features = inrep + outrep\n# rbfi = scipy.interpolate.Rbf(*features)\n\n# y_pred = [float(rbfi(*[row[rep] for rep in ins])) for idx, row in df_calc.iterrows()]\n\n# plt.hist(y_pred)\n# plt.show()",
      "execution_count": null,
      "outputs": []
    }
  ],
  "metadata": {
    "kernelspec": {
      "name": "python36",
      "display_name": "Python 3.6",
      "language": "python"
    },
    "language_info": {
      "mimetype": "text/x-python",
      "nbconvert_exporter": "python",
      "name": "python",
      "pygments_lexer": "ipython3",
      "version": "3.6.6",
      "file_extension": ".py",
      "codemirror_mode": {
        "version": 3,
        "name": "ipython"
      }
    }
  },
  "nbformat": 4,
  "nbformat_minor": 2
}