{
  "cells": [
    {
      "metadata": {},
      "cell_type": "markdown",
      "source": "# Introduction\n\nWe want our model to estimate election outcomes based on the fundamentals and poll data. Thus, we need a \"poll feature\" for each district upon which to train. Unfortunately, many districts do not have poll data. We overcome this by interpolating poll results for districts that do not have polls from districts that do have polls based on districts' similarity in demographics and historical election results.\n\nThe poll data points upon which we will interpolate are [538](https://fivethirtyeight.com/features/2018-house-forecast-methodology/)'s adjusted poll margins. We will pull the most recent adjusted margin (MRAM).\n\nWe perform the interpolation using [radial basis function interpolation](http://num.math.uni-goettingen.de/schaback/teaching/sc.pdf) (RBF interpolation)."
    },
    {
      "metadata": {
        "trusted": true
      },
      "cell_type": "code",
      "source": "# !pip install git+git://github.com/treverhines/RBF@master\n    \nimport pandas as pd\nimport numpy as np\nimport scipy.cluster\nimport scipy.interpolate\nfrom scipy import stats\nfrom sklearn.metrics import mean_squared_error as mse, mean_absolute_error as mae\nfrom sklearn.decomposition import FastICA\n# from rbf.interpolate import RBFInterpolant\n# import rbf.basis\n\nfrom keras.layers import Input, Dense\nfrom keras.models import Model\nfrom keras import regularizers\n\nimport matplotlib.pyplot as plt\nplt.style.use('ggplot')\n\nprint('done')",
      "execution_count": 7,
      "outputs": [
        {
          "output_type": "stream",
          "text": "done\n",
          "name": "stdout"
        }
      ]
    },
    {
      "metadata": {},
      "cell_type": "markdown",
      "source": "# Input Data\n\nWe will now interpolate real polls based on a large range of input features. We predict based on ProximityOne's [demographic data by congressional district](http://proximityone.com/cd.htm). Specifically, we input the [social characteristics](http://proximityone.com/cd161dp2.htm)."
    },
    {
      "metadata": {
        "trusted": true
      },
      "cell_type": "code",
      "source": "df = pd.read_excel('all.xlsx', sheet='Sheet 1')\n\nins = ['S' + str(rep).zfill(3) for rep in range(1, df.shape[1])]\nouts = ['MRAM']\n\nprint('done')",
      "execution_count": 8,
      "outputs": [
        {
          "output_type": "stream",
          "text": "done\n",
          "name": "stdout"
        }
      ]
    },
    {
      "metadata": {},
      "cell_type": "markdown",
      "source": "# Preprocessing\n\nWe obviously must drop all non-numeric data. However, we also must drop rows in which coordinates are duplicated due to quirks in the way the RBF interpolation is calculated (duplicate coordinates result in `scipy` trying to invert a singular matrix)."
    },
    {
      "metadata": {
        "trusted": true,
        "scrolled": true
      },
      "cell_type": "code",
      "source": "# Drop rows that have non-numerical data\ndf.dropna(inplace=True)\ndf = df[df.applymap(np.isreal).any(1)]\ndf.columns = ['MRAM'] + ins\n\n# Drop rows that down have MRAM\ndf = df[df['MRAM'] != 999]\n\n# tidx = [np.random.randint(0, len(df)) for i in range(int(5 * len(df) / 10))]\n# vidx = list(set(range(515)).difference(set(tidx)))\n\ntidx = range(0, int(len(df) / 2))\nvidx = range(int(len(df) / 2), len(df))\n\ntrows = [df.iloc[idx] for idx in tidx]\nvrows = [df.iloc[idx] for idx in vidx]\ndf_train = df.drop(df.index[tidx])\ndf_validate = df.drop(df.index[vidx])\n\nica = FastICA(n_components=50)\nS_ica_ = ica.fit(df.as_matrix())\nmloss = S_ica_.inverse_transform(S_ica_.fit_transform(df.as_matrix())) - df.as_matrix()  # Estimate the sources\n\nfor i in range(517):\n    mloss[:,i] /= np.std(mloss[:,i])\n\nprint(mloss)\n\n# def get_repeat_idxs(records_array):\n#     idx_sort = np.argsort(records_array)\n#     sorted_records_array = records_array[idx_sort]\n#     vals, idx_start, count = np.unique(sorted_records_array, return_counts=True,\n#                                     return_index=True)\n#     res = np.split(idx_sort, idx_start[1:])\n#     vals = vals[count > 1]\n#     return filter(lambda x: x.size > 1, res)\n\n# # Drop data columns that have repeats\n# bads = []\n# for cni in range(len(ins)):\n#     cn = ins[cni]\n#     col = np.array(df[cn])\n#     repeated = list(get_repeat_idxs(col))\n    \n#     if len(repeated) > 0:\n#         bads.append(cn)\n\n# for cn in bads:\n#     ins.remove(cn)\n#     df.drop(cn, axis=1, inplace=True)\n    \n# # Drop rows with repeats\n# for name in ins + outs:\n#     _, uidx = np.unique(df[name], return_index=True)\n#     df = df.iloc[uidx]\n\n# df.reset_index(drop=True, inplace=True)\n# df.to_csv('tmp.csv', sep=',')\n\n# print('done')",
      "execution_count": 20,
      "outputs": [
        {
          "output_type": "error",
          "ename": "SyntaxError",
          "evalue": "invalid syntax (<ipython-input-20-86207e0f1518>, line 25)",
          "traceback": [
            "\u001b[0;36m  File \u001b[0;32m\"<ipython-input-20-86207e0f1518>\"\u001b[0;36m, line \u001b[0;32m25\u001b[0m\n\u001b[0;31m    mloss[,i] /= np.std(mloss[,i])\u001b[0m\n\u001b[0m          ^\u001b[0m\n\u001b[0;31mSyntaxError\u001b[0m\u001b[0;31m:\u001b[0m invalid syntax\n"
          ]
        }
      ]
    },
    {
      "metadata": {},
      "cell_type": "markdown",
      "source": "# Training"
    },
    {
      "metadata": {
        "trusted": true
      },
      "cell_type": "code",
      "source": "def gen_interpolator(df_train, _ins, _outs):\n    inrep = [np.array(df_train[rep]).astype(float) for rep in _ins]\n    outrep = [np.array(df_train[rep]).astype(float) for rep in _outs]\n    features = list(inrep) + list(outrep)\n    \n    # Check for repeats (there shouldn't be any)\n    for feature in features:\n        if len(feature) != len(set(feature)):\n            print('Repeat')\n    return scipy.interpolate.Rbf(*features)",
      "execution_count": 4,
      "outputs": []
    },
    {
      "metadata": {},
      "cell_type": "markdown",
      "source": "# Validation\n\nWe partition our data into training and validation sets. We train the interpolation on most of the available data points, leaving out a set of validation points. We then predict the *MRAM* of the validation points and compare to the true *MRAM*, calculating the error in our interpolation.\n\n**TODO**: get the correct number of training points corresponding to the number of available polls"
    },
    {
      "metadata": {
        "trusted": true,
        "scrolled": true
      },
      "cell_type": "code",
      "source": "# Validate interpolation on many partitions\ntotcor = 0\ny_pred_all = []\ny_true_all = []\nN = 1\nfor k in range(N):\n#     tidx = [np.random.randint(0, len(df)) for i in range(int(5 * len(df) / 10))]\n    tidx = range(85)\n    trows = [df.iloc[idx] for idx in tidx]\n    df_train = df.drop(df.index[tidx])\n    \n    \n    inrep = [np.array(df_train[rep]).astype(float) for rep in ins]\n    outrep = [np.array(df_train[rep]).astype(float) for rep in outs]\n    features = list(inrep) + list(outrep)\n    \n    # Check for repeats (there shouldn't be any)\n    for feature in features:\n        if len(feature) != len(set(feature)):\n            print('Repeat')\n            \n            \n            \n    rbfi = scipy.interpolate.Rbf(*features)\n    \n    \n    \n    \n    \n#     rbfi = gen_interpolator(df_train, ins, outs)\n    \n    y_pred = [float(rbfi(*[row[rep] for rep in ins])) for row in trows]\n    y_true = [row[outs[0]] for row in trows]\n\n    correct = []\n    for i in range(len(y_pred)):\n        correct.append((y_pred[i] > 0.5) == (y_true[i] > 0.5))\n\n    totcor += sum(correct) / len(y_pred)\n    y_pred_all.extend(y_pred)\n    y_true_all.extend(correct)\n\n# This represents the expected rate at which the interpolator correctly predicts the outcome of the race\nprint('Fraction of Races Predicted Correctly: ' + str(totcor / N))\nprint('Mean Squared Prediction Error: ' + str(mse(y_true_all, y_pred_all)))\nprint('Mean Absolute Prediction Error: ' + str(mae(y_true_all, y_pred_all)))\nprint('Mean Prediction Error: ' + str(np.mean(np.array(y_true_all) - np.array(y_pred_all))))\nprint('Stdev Prediction Error: ' + str(np.std(np.array(y_true_all) - np.array(y_pred_all))))\n\nplt.hist(np.array(y_true_all) - np.array(y_pred_all))\nplt.title('y_true - y_pred')\nplt.show()\n\nprint('done')",
      "execution_count": 5,
      "outputs": [
        {
          "output_type": "stream",
          "text": "Repeat\nRepeat\nRepeat\nRepeat\nRepeat\nRepeat\nRepeat\nRepeat\nRepeat\nRepeat\nRepeat\nRepeat\nRepeat\nRepeat\nRepeat\nRepeat\nRepeat\nRepeat\nRepeat\nRepeat\nRepeat\nRepeat\nRepeat\nRepeat\nRepeat\nRepeat\nRepeat\nRepeat\nRepeat\nRepeat\nRepeat\nRepeat\nRepeat\nRepeat\nRepeat\nRepeat\nRepeat\nRepeat\nRepeat\nRepeat\nRepeat\nRepeat\nRepeat\nRepeat\nRepeat\nRepeat\nRepeat\nRepeat\nRepeat\nRepeat\nRepeat\nRepeat\nRepeat\nRepeat\nRepeat\nRepeat\nRepeat\n",
          "name": "stdout"
        },
        {
          "output_type": "stream",
          "text": "/home/nbuser/anaconda3_501/lib/python3.6/site-packages/numpy/core/fromnumeric.py:83: RuntimeWarning: overflow encountered in reduce\n  return ufunc.reduce(obj, axis, dtype, out, **passkwargs)\n",
          "name": "stderr"
        },
        {
          "output_type": "error",
          "ename": "LinAlgError",
          "evalue": "Matrix is singular.",
          "traceback": [
            "\u001b[0;31m---------------------------------------------------------------------------\u001b[0m",
            "\u001b[0;31mLinAlgError\u001b[0m                               Traceback (most recent call last)",
            "\u001b[0;32m<ipython-input-5-9ca9f94e1bdb>\u001b[0m in \u001b[0;36m<module>\u001b[0;34m()\u001b[0m\n\u001b[1;32m     22\u001b[0m \u001b[0;34m\u001b[0m\u001b[0m\n\u001b[1;32m     23\u001b[0m \u001b[0;34m\u001b[0m\u001b[0m\n\u001b[0;32m---> 24\u001b[0;31m     \u001b[0mrbfi\u001b[0m \u001b[0;34m=\u001b[0m \u001b[0mscipy\u001b[0m\u001b[0;34m.\u001b[0m\u001b[0minterpolate\u001b[0m\u001b[0;34m.\u001b[0m\u001b[0mRbf\u001b[0m\u001b[0;34m(\u001b[0m\u001b[0;34m*\u001b[0m\u001b[0mfeatures\u001b[0m\u001b[0;34m)\u001b[0m\u001b[0;34m\u001b[0m\u001b[0m\n\u001b[0m\u001b[1;32m     25\u001b[0m \u001b[0;34m\u001b[0m\u001b[0m\n\u001b[1;32m     26\u001b[0m \u001b[0;34m\u001b[0m\u001b[0m\n",
            "\u001b[0;32m~/anaconda3_501/lib/python3.6/site-packages/scipy/interpolate/rbf.py\u001b[0m in \u001b[0;36m__init__\u001b[0;34m(self, *args, **kwargs)\u001b[0m\n\u001b[1;32m    220\u001b[0m \u001b[0;34m\u001b[0m\u001b[0m\n\u001b[1;32m    221\u001b[0m         \u001b[0mself\u001b[0m\u001b[0;34m.\u001b[0m\u001b[0mA\u001b[0m \u001b[0;34m=\u001b[0m \u001b[0mself\u001b[0m\u001b[0;34m.\u001b[0m\u001b[0m_init_function\u001b[0m\u001b[0;34m(\u001b[0m\u001b[0mr\u001b[0m\u001b[0;34m)\u001b[0m \u001b[0;34m-\u001b[0m \u001b[0mnp\u001b[0m\u001b[0;34m.\u001b[0m\u001b[0meye\u001b[0m\u001b[0;34m(\u001b[0m\u001b[0mself\u001b[0m\u001b[0;34m.\u001b[0m\u001b[0mN\u001b[0m\u001b[0;34m)\u001b[0m\u001b[0;34m*\u001b[0m\u001b[0mself\u001b[0m\u001b[0;34m.\u001b[0m\u001b[0msmooth\u001b[0m\u001b[0;34m\u001b[0m\u001b[0m\n\u001b[0;32m--> 222\u001b[0;31m         \u001b[0mself\u001b[0m\u001b[0;34m.\u001b[0m\u001b[0mnodes\u001b[0m \u001b[0;34m=\u001b[0m \u001b[0mlinalg\u001b[0m\u001b[0;34m.\u001b[0m\u001b[0msolve\u001b[0m\u001b[0;34m(\u001b[0m\u001b[0mself\u001b[0m\u001b[0;34m.\u001b[0m\u001b[0mA\u001b[0m\u001b[0;34m,\u001b[0m \u001b[0mself\u001b[0m\u001b[0;34m.\u001b[0m\u001b[0mdi\u001b[0m\u001b[0;34m)\u001b[0m\u001b[0;34m\u001b[0m\u001b[0m\n\u001b[0m\u001b[1;32m    223\u001b[0m \u001b[0;34m\u001b[0m\u001b[0m\n\u001b[1;32m    224\u001b[0m     \u001b[0;32mdef\u001b[0m \u001b[0m_call_norm\u001b[0m\u001b[0;34m(\u001b[0m\u001b[0mself\u001b[0m\u001b[0;34m,\u001b[0m \u001b[0mx1\u001b[0m\u001b[0;34m,\u001b[0m \u001b[0mx2\u001b[0m\u001b[0;34m)\u001b[0m\u001b[0;34m:\u001b[0m\u001b[0;34m\u001b[0m\u001b[0m\n",
            "\u001b[0;32m~/anaconda3_501/lib/python3.6/site-packages/scipy/linalg/basic.py\u001b[0m in \u001b[0;36msolve\u001b[0;34m(a, b, sym_pos, lower, overwrite_a, overwrite_b, debug, check_finite, assume_a, transposed)\u001b[0m\n\u001b[1;32m    217\u001b[0m         \u001b[0;32mreturn\u001b[0m \u001b[0mx\u001b[0m\u001b[0;34m\u001b[0m\u001b[0m\n\u001b[1;32m    218\u001b[0m     \u001b[0;32melif\u001b[0m \u001b[0;36m0\u001b[0m \u001b[0;34m<\u001b[0m \u001b[0minfo\u001b[0m \u001b[0;34m<=\u001b[0m \u001b[0mn\u001b[0m\u001b[0;34m:\u001b[0m\u001b[0;34m\u001b[0m\u001b[0m\n\u001b[0;32m--> 219\u001b[0;31m         \u001b[0;32mraise\u001b[0m \u001b[0mLinAlgError\u001b[0m\u001b[0;34m(\u001b[0m\u001b[0;34m'Matrix is singular.'\u001b[0m\u001b[0;34m)\u001b[0m\u001b[0;34m\u001b[0m\u001b[0m\n\u001b[0m\u001b[1;32m    220\u001b[0m     \u001b[0;32melif\u001b[0m \u001b[0minfo\u001b[0m \u001b[0;34m>\u001b[0m \u001b[0mn\u001b[0m\u001b[0;34m:\u001b[0m\u001b[0;34m\u001b[0m\u001b[0m\n\u001b[1;32m    221\u001b[0m         warnings.warn('scipy.linalg.solve\\nIll-conditioned matrix detected.'\n",
            "\u001b[0;31mLinAlgError\u001b[0m: Matrix is singular."
          ]
        }
      ]
    },
    {
      "metadata": {
        "trusted": true
      },
      "cell_type": "code",
      "source": "res = stats.probplot(np.array(y_true_all) - np.array(y_pred_all), plot=plt)\n\nprint('done')",
      "execution_count": null,
      "outputs": []
    },
    {
      "metadata": {},
      "cell_type": "markdown",
      "source": "# Final Answer\n\nWe now plug in all available data to an interpolator and interpolate all rows. Keep in mind we expect our interpolation error to be drawn from the distribution shown above."
    },
    {
      "metadata": {
        "trusted": true
      },
      "cell_type": "code",
      "source": "# TODO do it",
      "execution_count": null,
      "outputs": []
    }
  ],
  "metadata": {
    "kernelspec": {
      "name": "python36",
      "display_name": "Python 3.6",
      "language": "python"
    },
    "language_info": {
      "mimetype": "text/x-python",
      "nbconvert_exporter": "python",
      "name": "python",
      "pygments_lexer": "ipython3",
      "version": "3.6.6",
      "file_extension": ".py",
      "codemirror_mode": {
        "version": 3,
        "name": "ipython"
      }
    }
  },
  "nbformat": 4,
  "nbformat_minor": 2
}