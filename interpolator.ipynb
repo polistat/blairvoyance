{
  "cells": [
    {
      "metadata": {},
      "cell_type": "markdown",
      "source": "# Introduction\n\nWe want our model to estimate election outcomes based on the fundamentals and poll data. Thus, we need a \"poll feature\" for each district upon which to train. Unfortunately, many districts do not have poll data. We overcome this by interpolating poll results for districts that do not have polls from districts that do have polls based on districts' similarity in demographics and historical election results.\n\nThe poll data points upon which we will interpolate are [538](https://fivethirtyeight.com/features/2018-house-forecast-methodology/)'s adjusted poll margins. We will pull the most recent adjusted margin (MRAM).\n\nWe perform the interpolation using [radial basis function interpolation](http://num.math.uni-goettingen.de/schaback/teaching/sc.pdf) (RBF interpolation)."
    },
    {
      "metadata": {
        "trusted": true
      },
      "cell_type": "code",
      "source": "import pandas as pd\nimport numpy as np\nimport scipy.cluster\nimport scipy.interpolate\nfrom sklearn.metrics import mean_squared_error as mse, mean_absolute_error as mae\nimport matplotlib.pyplot as plt\nplt.style.use('ggplot')",
      "execution_count": 1,
      "outputs": []
    },
    {
      "metadata": {},
      "cell_type": "markdown",
      "source": "# Input Data\n\nWe will now interpolate real polls based on a large range of input features. We predict based on ProximityOne's [demographic data by congressional district](http://proximityone.com/cd.htm). Specifically, we input the [social characteristics](http://proximityone.com/cd161dp2.htm)."
    },
    {
      "metadata": {
        "trusted": true
      },
      "cell_type": "code",
      "source": "df = pd.read_excel('sdata.xlsx', sheet='Sheet 1')\n\nins = ['S' + str(rep).zfill(3) for rep in range(1, 90)]\nouts = ['MRAM']",
      "execution_count": 2,
      "outputs": []
    },
    {
      "metadata": {},
      "cell_type": "markdown",
      "source": "# Preprocessing\n\nWe obviously must drop all non-numeric data. However, we also must drop rows in which coordinates are duplicated due to quirks in the way the RBF interpolation is calculated (duplicate coordinates result in `scipy` trying to invert a singular matrix)."
    },
    {
      "metadata": {
        "trusted": true
      },
      "cell_type": "code",
      "source": "# Fix column names\ndf.columns = [rep.strip() for rep in df.columns]\n\n# Strip non-data columns (i.e. district name)\nfor column in df.columns:\n    if not (column in ins or column in outs):\n        df.drop(column, axis=1, inplace=True)\n\n# Drop rows that have non-numerical data\ndf.dropna(inplace=True)\ndf = df[df.applymap(np.isreal).any(1)]\n\ndef get_repeat_idxs(records_array):\n    idx_sort = np.argsort(records_array)\n    sorted_records_array = records_array[idx_sort]\n    vals, idx_start, count = np.unique(sorted_records_array, return_counts=True,\n                                    return_index=True)\n\n    # sets of indices\n    res = np.split(idx_sort, idx_start[1:])\n    #filter them with respect to their size, keeping only items occurring more than once\n\n    vals = vals[count > 1]\n    return filter(lambda x: x.size > 1, res)\n\nbads = []\nfor cni in range(len(ins)):\n    cn = ins[cni]\n    col = np.array(df[cn])\n    repeated = list(get_repeat_idxs(col))\n    \n    if len(repeated) > 0:\n        bads.append(cn)\n\nfor cn in bads:\n    ins.remove(cn)\n    df.drop(cn, axis=1, inplace=True)",
      "execution_count": 3,
      "outputs": []
    },
    {
      "metadata": {},
      "cell_type": "markdown",
      "source": "## Training and Validation\n\n**TODO**: get the correct number of training points corresponding to the number of available polls\n\nWe partition our data into training and validation sets. We train the interpolation on most of the available data points, leaving out a set of validation points. We then predict the *MRAM* of the validation points and compare to the true *MRAM*, calculating the error in our interpolation."
    },
    {
      "metadata": {
        "trusted": true
      },
      "cell_type": "code",
      "source": "# Validate interpolation on many partitions\ntotcor = 0\ny_pred_all = []\ny_true_all = []\nN = 1000\nfor k in range(N):\n    tidx = [np.random.randint(0, len(df)) for i in range(10)]\n    trows = [df.iloc[idx] for idx in tidx]\n    df_train = df.drop(df.index[tidx])\n    \n    inrep = [np.array(df_train[rep]).astype(float) for rep in ins]\n    outrep = [np.array(df_train[rep]).astype(float) for rep in outs]\n    features = inrep + outrep\n    rbfi = scipy.interpolate.Rbf(*features)\n    \n    y_pred = [float(rbfi(*[row[rep] for rep in ins])) for row in trows]\n    y_true = [row[outs[0]] for row in trows]\n\n    correct = []\n    for i in range(len(y_pred)):\n        correct.append((y_pred[i] > 0.5) == (y_true[i] > 0.5))\n    totcor += sum(correct) / len(y_pred)\n    y_pred_all.extend(y_pred)\n    y_true_all.extend(correct)\n\n# This represents the expected rate at which the interpolator correctly predicts the outcome of the race\nprint('Fraction of Races Predicted Correctly: ' + str(totcor / N))\nprint('Mean Squared Prediction Error: ' + str(mse(y_true_all, y_pred_all)))\nprint('Mean Absolute Prediction Error: ' + str(mae(y_true_all, y_pred_all)))\nprint('Stdev Prediction Error: ' + str(np.std(np.array(y_true_all) - np.array(y_pred_all))))\n\nplt.hist(np.array(y_true_all) - np.array(y_pred_all))\nplt.title('y_true - y_pred')\nplt.show()",
      "execution_count": 4,
      "outputs": [
        {
          "output_type": "stream",
          "text": "Fraction of Races Predicted Correctly: 0.6477000000000009\nMean Squared Prediction Error: 115.94729517757115\nMean Absolute Prediction Error: 7.915726242939451\nStdev Prediction Error: 10.055751833880993\n",
          "name": "stdout"
        },
        {
          "output_type": "display_data",
          "data": {
            "image/png": "[encoded data removed]",
            "text/plain": "<matplotlib.figure.Figure at 0x7f34822a7ef0>"
          },
          "metadata": {}
        }
      ]
    }
  ],
  "metadata": {
    "kernelspec": {
      "name": "python36",
      "display_name": "Python 3.6",
      "language": "python"
    },
    "language_info": {
      "mimetype": "text/x-python",
      "nbconvert_exporter": "python",
      "name": "python",
      "pygments_lexer": "ipython3",
      "version": "3.6.6",
      "file_extension": ".py",
      "codemirror_mode": {
        "version": 3,
        "name": "ipython"
      }
    }
  },
  "nbformat": 4,
  "nbformat_minor": 2
}