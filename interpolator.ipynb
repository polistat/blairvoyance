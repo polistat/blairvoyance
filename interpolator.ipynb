{
 "cells": [
  {
   "cell_type": "markdown",
   "metadata": {},
   "source": [
    "# Introduction\n",
    "\n",
    "We want our model to estimate election outcomes based on the fundamentals and poll data. Thus, we need a \"poll feature\" for each district upon which to train. Unfortunately, many districts do not have poll data. We overcome this by interpolating poll results for districts that do not have polls from districts that do have polls based on districts' similarity in demographics and historical election results.\n",
    "\n",
    "The poll data points upon which we will interpolate are [538](https://fivethirtyeight.com/features/2018-house-forecast-methodology/)'s adjusted poll margins. We will pull the most recent adjusted margin (MRAM).\n",
    "\n",
    "We perform the interpolation using [radial basis function interpolation](http://num.math.uni-goettingen.de/schaback/teaching/sc.pdf) (RBF interpolation)."
   ]
  },
  {
   "cell_type": "code",
   "execution_count": 1,
   "metadata": {},
   "outputs": [
    {
     "name": "stdout",
     "output_type": "stream",
     "text": [
      "starting\n",
      "done\n"
     ]
    }
   ],
   "source": [
    "print('starting')\n",
    "\n",
    "import pandas as pd\n",
    "import numpy as np\n",
    "import scipy.cluster\n",
    "import scipy.interpolate\n",
    "from scipy import stats\n",
    "from sklearn.metrics import mean_squared_error as mse, mean_absolute_error as mae\n",
    "import matplotlib.pyplot as plt\n",
    "plt.style.use('ggplot')\n",
    "\n",
    "print('done')"
   ]
  },
  {
   "cell_type": "markdown",
   "metadata": {},
   "source": [
    "# Input Data\n",
    "\n",
    "We will now interpolate real polls based on a large range of input features. We predict based on ProximityOne's [demographic data by congressional district](http://proximityone.com/cd.htm). Specifically, we input a hand-selected set of [social characteristics](http://proximityone.com/cd161dp2.htm)."
   ]
  },
  {
   "cell_type": "code",
   "execution_count": 2,
   "metadata": {},
   "outputs": [
    {
     "name": "stdout",
     "output_type": "stream",
     "text": [
      "starting\n",
      "done\n"
     ]
    }
   ],
   "source": [
    "print('starting')\n",
    "\n",
    "pp = pd.read_csv('ppoll_n.csv', header=None)\n",
    "df = pd.read_excel('handmod.xlsx', sheet='Sheet 1', header=None)\n",
    "\n",
    "ins = ['S' + str(rep).zfill(3) for rep in range(df.shape[1])]\n",
    "outs = ['MRAM']\n",
    "\n",
    "# Drop rows that have non-numerical data\n",
    "df.dropna(inplace=True)\n",
    "df = df[df.applymap(np.isreal).any(1)]\n",
    "df.columns = ins\n",
    "df['MRAM'] = pp.iloc[:,1]\n",
    "\n",
    "# Make a copy of all the data before you drop the districts without polls\n",
    "raw = df.copy(deep=True)\n",
    "\n",
    "# Drop rows that down have MRAM\n",
    "df = df[df['MRAM'] != 0]\n",
    "\n",
    "print('done')"
   ]
  },
  {
   "cell_type": "markdown",
   "metadata": {},
   "source": [
    "# Preprocessing\n",
    "\n",
    "We obviously must drop all non-numeric data. However, we also must drop rows in which coordinates are duplicated due to quirks in the way the RBF interpolation is calculated (duplicate coordinates result in `scipy` trying to invert a singular matrix)."
   ]
  },
  {
   "cell_type": "code",
   "execution_count": 3,
   "metadata": {
    "scrolled": true
   },
   "outputs": [
    {
     "name": "stdout",
     "output_type": "stream",
     "text": [
      "done\n"
     ]
    }
   ],
   "source": [
    "def get_repeat_idxs(records_array):\n",
    "    idx_sort = np.argsort(records_array)\n",
    "    sorted_records_array = records_array[idx_sort]\n",
    "    vals, idx_start, count = np.unique(sorted_records_array, return_counts=True,\n",
    "                                    return_index=True)\n",
    "    res = np.split(idx_sort, idx_start[1:])\n",
    "    vals = vals[count > 1]\n",
    "    return filter(lambda x: x.size > 1, res)\n",
    "\n",
    "# Drop data columns that have repeats\n",
    "bads = []\n",
    "for cni in range(len(ins)):\n",
    "    cn = ins[cni]\n",
    "    col = np.array(df[cn])\n",
    "    repeated = list(get_repeat_idxs(col))\n",
    "    \n",
    "    if len(repeated) > 0:\n",
    "        bads.append(cn)\n",
    "\n",
    "for cn in bads:\n",
    "    ins.remove(cn)\n",
    "    df.drop(cn, axis=1, inplace=True)\n",
    "    \n",
    "# Drop rows with repeats\n",
    "for name in ins + outs:\n",
    "    _, uidx = np.unique(df[name], return_index=True)\n",
    "    df = df.iloc[uidx]\n",
    "\n",
    "df.reset_index(drop=True, inplace=True)\n",
    "\n",
    "print('done')"
   ]
  },
  {
   "cell_type": "markdown",
   "metadata": {},
   "source": [
    "# Training"
   ]
  },
  {
   "cell_type": "code",
   "execution_count": 4,
   "metadata": {},
   "outputs": [],
   "source": [
    "def gen_interpolator(df_train, _ins, _outs):\n",
    "    inrep = [np.array(df_train[rep]).astype(float) for rep in _ins]\n",
    "    outrep = [np.array(df_train[rep]).astype(float) for rep in _outs]\n",
    "    features = list(inrep) + list(outrep)\n",
    "    \n",
    "    # Check for repeats (there shouldn't be any)\n",
    "    for feature in features:\n",
    "        if len(feature) != len(set(feature)):\n",
    "            print('Repeat')\n",
    "    return scipy.interpolate.Rbf(*features)\n",
    "\n",
    "\n",
    "def validate_step(rbfi, df_validate, _ins, _outs):\n",
    "    y_pred = []\n",
    "    y_true = []\n",
    "    for index, row in df_validate.iterrows():\n",
    "        y_pred.append(rbfi(*[row[rep] for rep in _ins]))\n",
    "        y_true.append(row[outs[0]])\n",
    "\n",
    "    er = np.array(np.array(y_true) - np.array(y_pred))\n",
    "    correct = np.array([(y_pred[i] > 0.5) == (y_true[i] > 0.5) for i in range(len(y_pred))])\n",
    "    \n",
    "    return er, correct"
   ]
  },
  {
   "cell_type": "code",
   "execution_count": 5,
   "metadata": {},
   "outputs": [
    {
     "name": "stdout",
     "output_type": "stream",
     "text": [
      "starting\n",
      "- 0.0% -- 10.0% -- 20.0% -- 30.0% -- 40.0% -- 50.0% -- 60.0% -- 70.0% -- 80.0% -- 90.0% -done\n"
     ]
    }
   ],
   "source": [
    "print('starting')\n",
    "\n",
    "totcor = 0\n",
    "er_all = []\n",
    "correct_all = []\n",
    "\n",
    "N = 1000\n",
    "for k in range(N):\n",
    "    ridx = np.random.rand(len(df)) < 0.5 # 50% True 50% False\n",
    "    df_train = df[ridx]\n",
    "    df_validate = df[~ridx]\n",
    "    \n",
    "    rbfi = gen_interpolator(df_train, ins, outs)\n",
    "    er, correct = validate_step(rbfi, df_validate, ins, outs)\n",
    "    \n",
    "    er_all.append(er)\n",
    "    correct_all.append(correct)\n",
    "    \n",
    "    if k % (N / 10) == 0:\n",
    "        print('- ' + str(k / N * 100) + '% -', end='')\n",
    "\n",
    "print('done')"
   ]
  },
  {
   "cell_type": "markdown",
   "metadata": {},
   "source": [
    "# Validation\n",
    "\n",
    "We partition our data into training and validation sets. We train the interpolation on most of the available data points, leaving out a set of validation points. We then predict the *MRAM* of the validation points and compare to the true *MRAM*, calculating the error in our interpolation."
   ]
  },
  {
   "cell_type": "code",
   "execution_count": 9,
   "metadata": {
    "scrolled": false
   },
   "outputs": [
    {
     "name": "stdout",
     "output_type": "stream",
     "text": [
      "starting\n",
      "\n",
      "\n",
      "Fraction of Races Predicted Correctly: 0.9019607843137255\n",
      "Mean Squared Prediction Error: 56.00112211598325\n",
      "Mean Absolute Prediction Error: 5.975469102810325\n",
      "Mean Prediction Error: -1.3819737971139527\n",
      "Stdev Prediction Error: 7.354676780122543\n"
     ]
    },
    {
     "data": {
      "image/png": "[encoded data removed]",
      "text/plain": [
       "<Figure size 432x288 with 1 Axes>"
      ]
     },
     "metadata": {},
     "output_type": "display_data"
    },
    {
     "data": {
      "image/png": "[encoded data removed]",
      "text/plain": [
       "<Figure size 432x288 with 1 Axes>"
      ]
     },
     "metadata": {},
     "output_type": "display_data"
    },
    {
     "name": "stdout",
     "output_type": "stream",
     "text": [
      "done\n"
     ]
    }
   ],
   "source": [
    "print('starting')\n",
    "\n",
    "# This represents the expected rate at which the interpolator correctly predicts the outcome of the race\n",
    "print('\\n\\nFraction of Races Predicted Correctly: ' + str(np.sum(correct) / len(correct)))\n",
    "print('Mean Squared Prediction Error: ' + str(np.mean(er ** 2)))\n",
    "print('Mean Absolute Prediction Error: ' + str(np.mean(np.abs(er))))\n",
    "print('Mean Prediction Error: ' + str(np.mean(er)))\n",
    "print('Stdev Prediction Error: ' + str(np.std(er)))\n",
    "\n",
    "plt.hist(er)\n",
    "plt.xlabel('Error')\n",
    "plt.ylabel('Frequency')\n",
    "plt.title('Prediction Error (Histogram)')\n",
    "plt.show()\n",
    "\n",
    "res = stats.probplot(er, plot=plt)\n",
    "plt.title('Prediction Error (Normal Probability Plot)')\n",
    "plt.show()\n",
    "\n",
    "print('done')"
   ]
  },
  {
   "cell_type": "markdown",
   "metadata": {},
   "source": [
    "# Final Answer\n",
    "\n",
    "We now plug in all available data to an interpolator and interpolate all rows. Keep in mind we expect our interpolation error to be drawn from the distribution shown above."
   ]
  },
  {
   "cell_type": "code",
   "execution_count": null,
   "metadata": {},
   "outputs": [],
   "source": [
    "rbfi = gen_interpolator(df, ins, outs)\n",
    "\n",
    "tidx = range(len(raw))\n",
    "trows = [raw.iloc[idx] for idx in tidx]\n",
    "y_pred = [float(rbfi(*[row[rep] for rep in ins])) for row in trows]\n",
    "print(y_pred)\n",
    "np.savetxt('out.csv', (50 + np.array(y_pred)) / 100, delimiter=',')"
   ]
  },
  {
   "cell_type": "code",
   "execution_count": null,
   "metadata": {},
   "outputs": [],
   "source": []
  }
 ],
 "metadata": {
  "kernelspec": {
   "display_name": "Python 3",
   "language": "python",
   "name": "python3"
  },
  "language_info": {
   "codemirror_mode": {
    "name": "ipython",
    "version": 3
   },
   "file_extension": ".py",
   "mimetype": "text/x-python",
   "name": "python",
   "nbconvert_exporter": "python",
   "pygments_lexer": "ipython3",
   "version": "3.6.5"
  }
 },
 "nbformat": 4,
 "nbformat_minor": 2
}
