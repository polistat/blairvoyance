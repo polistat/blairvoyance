{
 "cells": [
  {
   "cell_type": "markdown",
   "metadata": {},
   "source": [
    "# Introduction\n",
    "\n",
    "We want our model to estimate election outcomes based on the fundamentals and poll data. Thus, we need a \"poll feature\" for each district upon which to train. Unfortunately, many districts do not have poll data. We overcome this by interpolating poll results for districts that do not have polls from districts that do have polls based on districts' similarity in demographics and historical election results.\n",
    "\n",
    "The poll data points upon which we will interpolate are [538](https://fivethirtyeight.com/features/2018-house-forecast-methodology/)'s adjusted poll margins. We will pull the most recent adjusted margin (MRAM).\n",
    "\n",
    "We perform the interpolation using [radial basis function interpolation](http://num.math.uni-goettingen.de/schaback/teaching/sc.pdf) (RBF interpolation)."
   ]
  },
  {
   "cell_type": "code",
   "execution_count": 1,
   "metadata": {},
   "outputs": [
    {
     "name": "stdout",
     "output_type": "stream",
     "text": [
      "starting\n",
      "done\n"
     ]
    }
   ],
   "source": [
    "print('starting')\n",
    "\n",
    "import pandas as pd\n",
    "import numpy as np\n",
    "import scipy.cluster\n",
    "import scipy.interpolate\n",
    "from scipy import stats\n",
    "from sklearn.metrics import mean_squared_error as mse, mean_absolute_error as mae\n",
    "import matplotlib.pyplot as plt\n",
    "plt.style.use('ggplot')\n",
    "\n",
    "print('done')"
   ]
  },
  {
   "cell_type": "markdown",
   "metadata": {},
   "source": [
    "# Input Data\n",
    "\n",
    "We will now interpolate real polls based on a large range of input features. We predict based on ProximityOne's [demographic data by congressional district](http://proximityone.com/cd.htm). Specifically, we input a hand-selected set of [social characteristics](http://proximityone.com/cd161dp2.htm)."
   ]
  },
  {
   "cell_type": "code",
   "execution_count": 2,
   "metadata": {},
   "outputs": [
    {
     "name": "stdout",
     "output_type": "stream",
     "text": [
      "starting\n",
      "done\n"
     ]
    }
   ],
   "source": [
    "print('starting')\n",
    "\n",
    "pp = pd.read_csv('ppoll.csv', header=None)\n",
    "df = pd.read_excel('handmod.xlsx', sheet='Sheet 1', header=None)\n",
    "\n",
    "ins = ['S' + str(rep).zfill(3) for rep in range(df.shape[1])]\n",
    "outs = ['MRAM']\n",
    "\n",
    "# Drop rows that have non-numerical data\n",
    "df.dropna(inplace=True)\n",
    "df = df[df.applymap(np.isreal).any(1)]\n",
    "df.columns = ins\n",
    "df['MRAM'] = pp.iloc[:,1]\n",
    "\n",
    "# Make a copy of all the data before you drop the districts without polls\n",
    "raw = df.copy(deep=True)\n",
    "\n",
    "# Drop rows that down have MRAM\n",
    "df = df[df['MRAM'] != 0]\n",
    "\n",
    "print('done')"
   ]
  },
  {
   "cell_type": "markdown",
   "metadata": {},
   "source": [
    "# Preprocessing\n",
    "\n",
    "We obviously must drop all non-numeric data. However, we also must drop rows in which coordinates are duplicated due to quirks in the way the RBF interpolation is calculated (duplicate coordinates result in `scipy` trying to invert a singular matrix)."
   ]
  },
  {
   "cell_type": "code",
   "execution_count": 3,
   "metadata": {
    "scrolled": true
   },
   "outputs": [
    {
     "name": "stdout",
     "output_type": "stream",
     "text": [
      "done\n"
     ]
    }
   ],
   "source": [
    "def get_repeat_idxs(records_array):\n",
    "    idx_sort = np.argsort(records_array)\n",
    "    sorted_records_array = records_array[idx_sort]\n",
    "    vals, idx_start, count = np.unique(sorted_records_array, return_counts=True,\n",
    "                                    return_index=True)\n",
    "    res = np.split(idx_sort, idx_start[1:])\n",
    "    vals = vals[count > 1]\n",
    "    return filter(lambda x: x.size > 1, res)\n",
    "\n",
    "# Drop data columns that have repeats\n",
    "bads = []\n",
    "for cni in range(len(ins)):\n",
    "    cn = ins[cni]\n",
    "    col = np.array(df[cn])\n",
    "    repeated = list(get_repeat_idxs(col))\n",
    "    \n",
    "    if len(repeated) > 0:\n",
    "        bads.append(cn)\n",
    "\n",
    "for cn in bads:\n",
    "    ins.remove(cn)\n",
    "    df.drop(cn, axis=1, inplace=True)\n",
    "    \n",
    "# Drop rows with repeats\n",
    "for name in ins + outs:\n",
    "    _, uidx = np.unique(df[name], return_index=True)\n",
    "    df = df.iloc[uidx]\n",
    "\n",
    "df.reset_index(drop=True, inplace=True)\n",
    "\n",
    "print('done')"
   ]
  },
  {
   "cell_type": "markdown",
   "metadata": {},
   "source": [
    "# Training"
   ]
  },
  {
   "cell_type": "code",
   "execution_count": 4,
   "metadata": {},
   "outputs": [],
   "source": [
    "def gen_interpolator(df_train, _ins, _outs):\n",
    "    inrep = [np.array(df_train[rep]).astype(float) for rep in _ins]\n",
    "    outrep = [np.array(df_train[rep]).astype(float) for rep in _outs]\n",
    "    features = list(inrep) + list(outrep)\n",
    "    \n",
    "    # Check for repeats (there shouldn't be any)\n",
    "    for feature in features:\n",
    "        if len(feature) != len(set(feature)):\n",
    "            print('Repeat')\n",
    "    return scipy.interpolate.Rbf(*features)\n",
    "\n",
    "\n",
    "def validate_step(rbfi, df_validate, _ins, _outs):\n",
    "    y_pred = []\n",
    "    y_true = []\n",
    "    for index, row in df_validate.iterrows():\n",
    "        y_pred.append(rbfi(*[row[rep] for rep in _ins]))\n",
    "        y_true.append(row[outs[0]])\n",
    "\n",
    "    er = np.array(np.array(y_true) - np.array(y_pred))\n",
    "    correct = np.array([(y_pred[i] > 0.5) == (y_true[i] > 0.5) for i in range(len(y_pred))])\n",
    "    \n",
    "    return er, correct"
   ]
  },
  {
   "cell_type": "code",
   "execution_count": 5,
   "metadata": {},
   "outputs": [
    {
     "name": "stdout",
     "output_type": "stream",
     "text": [
      "starting\n",
      "- 0.0% -- 10.0% -- 20.0% -- 30.0% -- 40.0% -- 50.0% -- 60.0% -- 70.0% -- 80.0% -- 90.0% -done\n"
     ]
    }
   ],
   "source": [
    "print('starting')\n",
    "\n",
    "totcor = 0\n",
    "er_all = []\n",
    "correct_all = []\n",
    "\n",
    "N = 1000\n",
    "for k in range(N):\n",
    "    ridx = np.random.rand(len(df)) < 0.5 # 50% True 50% False\n",
    "    df_train = df[ridx]\n",
    "    df_validate = df[~ridx]\n",
    "    \n",
    "    rbfi = gen_interpolator(df_train, ins, outs)\n",
    "    er, correct = validate_step(rbfi, df_validate, ins, outs)\n",
    "    \n",
    "    er_all.append(er)\n",
    "    correct_all.append(correct)\n",
    "    \n",
    "    if k % (N / 10) == 0:\n",
    "        print('- ' + str(k / N * 100) + '% -', end='')\n",
    "\n",
    "print('done')"
   ]
  },
  {
   "cell_type": "markdown",
   "metadata": {},
   "source": [
    "# Validation\n",
    "\n",
    "We partition our data into training and validation sets. We train the interpolation on most of the available data points, leaving out a set of validation points. We then predict the *MRAM* of the validation points and compare to the true *MRAM*, calculating the error in our interpolation."
   ]
  },
  {
   "cell_type": "code",
   "execution_count": 6,
   "metadata": {
    "scrolled": false
   },
   "outputs": [
    {
     "name": "stdout",
     "output_type": "stream",
     "text": [
      "starting\n",
      "\n",
      "\n",
      "Fraction of Races Predicted Correctly: 0.9272727272727272\n",
      "Mean Squared Prediction Error: 83.26231346006045\n",
      "Mean Absolute Prediction Error: 7.6609935583417705\n",
      "Mean Prediction Error: 2.034817423534581\n",
      "Stdev Prediction Error: 8.895045335069437\n"
     ]
    },
    {
     "data": {
      "image/png": "[encoded data removed]",
      "text/plain": [
       "<Figure size 432x288 with 1 Axes>"
      ]
     },
     "metadata": {},
     "output_type": "display_data"
    },
    {
     "data": {
      "image/png": "[encoded data removed]",
      "text/plain": [
       "<Figure size 432x288 with 1 Axes>"
      ]
     },
     "metadata": {},
     "output_type": "display_data"
    },
    {
     "name": "stdout",
     "output_type": "stream",
     "text": [
      "done\n"
     ]
    }
   ],
   "source": [
    "print('starting')\n",
    "\n",
    "# This represents the expected rate at which the interpolator correctly predicts the outcome of the race\n",
    "print('\\n\\nFraction of Races Predicted Correctly: ' + str(np.sum(correct) / len(correct)))\n",
    "print('Mean Squared Prediction Error: ' + str(np.mean(er ** 2)))\n",
    "print('Mean Absolute Prediction Error: ' + str(np.mean(np.abs(er))))\n",
    "print('Mean Prediction Error: ' + str(np.mean(er)))\n",
    "print('Stdev Prediction Error: ' + str(np.std(er)))\n",
    "\n",
    "plt.hist(er)\n",
    "plt.xlabel('Error')\n",
    "plt.ylabel('Frequency')\n",
    "plt.title('Prediction Error (Histogram)')\n",
    "plt.show()\n",
    "\n",
    "res = stats.probplot(er, plot=plt)\n",
    "plt.title('Prediction Error (Normal Probability Plot)')\n",
    "plt.show()\n",
    "\n",
    "print('done')"
   ]
  },
  {
   "cell_type": "markdown",
   "metadata": {},
   "source": [
    "# Final Answer\n",
    "\n",
    "We now plug in all available data to an interpolator and interpolate all rows. Keep in mind we expect our interpolation error to be drawn from the distribution shown above."
   ]
  },
  {
   "cell_type": "code",
   "execution_count": 7,
   "metadata": {},
   "outputs": [
    {
     "name": "stdout",
     "output_type": "stream",
     "text": [
      "[0.4628468905930413, 0.308620717339989, 0.27683120867492195, 0.27224798130270644, 0.31778131287204814, 0.37824296917184197, 0.4969106091730555, 0.3577539757826804, 0.3611023102122249, 0.5000000000000051, 0.4152275132190607, 0.25015288739331143, 0.3578248410736211, 0.4298487951421578, 0.4363959414730175, 0.35859534105966473, 0.44843638733715013, 0.2201034656287726, 0.4151451209528932, 0.31000044503290214, 0.24003615433858103, 0.39068318658914963, 0.4962752238175915, 0.46930939198089616, 0.40502205782103945, 0.4689217914635509, 0.5043893382589727, 0.5000000000000029, 0.4485968619419941, 0.49624554486115247, 0.48431398004611426, 0.5268844142229603, 0.520007680215341, 0.5272708759578029, 0.4591725919015903, 0.470683181316366, 0.4389576321659638, 0.4595964026866363, 0.491177968938614, 0.4593057397292125, 0.44725652776764835, 0.3962972134839765, 0.420486052516145, 0.4715296436144945, 0.470060847059234, 0.4750610648151303, 0.47678240975842756, 0.46027628277781674, 0.5054796232778881, 0.43939915532071383, 0.5038388123937261, 0.46472013204693324, 0.433607220048375, 0.5220711976698493, 0.45673363645524206, 0.3961467038706701, 0.4389544711254234, 0.5023410056943259, 0.44118839516873776, 0.44718557433459183, 0.40298535525929763, 0.40287150879398725, 0.44820873205252953, 0.4716777753890096, 0.4236646962120653, 0.48000000000000453, 0.427335857505775, 0.4630791887588987, 0.48003835781389514, 0.5099999999999989, 0.44000000000652223, 0.4249852637895151, 0.5007224279914897, 0.4983703949125345, 0.5306576643262576, 0.39033534538739445, 0.3325383758787808, 0.35890170532724314, 0.3591681960231097, 0.46168620637393704, 0.4040026545868864, 0.4718213268294164, 0.4697077035648974, 0.5048623038936176, 0.5036248161348129, 0.4784538888929177, 0.49070678079877494, 0.2731007365045332, 0.33369336489832224, 0.35407859501540345, 0.44732116391759974, 0.46225525700389314, 0.4440033446634601, 0.4700000000002899, 0.4366039051739227, 0.47974258811919523, 0.4972155775658234, 0.37927356489272085, 0.30000089313222533, 0.43285353585734754, 0.5258342452994884, 0.47573928316607633, 0.3956111168222441, 0.3196318530755579, 0.4155467788643239, 0.4200000099525278, 0.5001048792666666, 0.4916307642324949, 0.5100008572017299, 0.4787104214940064, 0.4963313095070794, 0.3751714880298255, 0.4423112802374385, 0.4436194995040955, 0.44981760305266166, 0.423665156068929, 0.3071943481993196, 0.5285279710642954, 0.5162635772449868, 0.5048175724572377, 0.4847161242688605, 0.37782903397175177, 0.36258530819067686, 0.33650115539155023, 0.45097539537018233, 0.3953908926748386, 0.4859155616154476, 0.3511849298377689, 0.47163263347417117, 0.49669780953940973, 0.37548285609964294, 0.2303449526105811, 0.4737230534740206, 0.5281124137397808, 0.47246207246033234, 0.433917423608259, 0.4911730461584898, 0.4309209529950141, 0.5562582304438445, 0.46690080823778546, 0.4963965506047265, 0.4450060566925629, 0.4661468662191322, 0.41454909314596705, 0.3934356059823509, 0.41000000011982024, 0.4148302527071888, 0.3343251075000198, 0.3480338319243151, 0.4316039078439627, 0.3529104759053627, 0.3554825196687815, 0.34000004801836525, 0.3904758113664434, 0.47508940214836914, 0.39179051199235687, 0.4231299128769359, 0.4644618213925989, 0.4298502434407541, 0.4665100867001024, 0.44999999999999946, 0.4155114078546694, 0.3231392188647754, 0.20379830893860343, 0.4108258080470259, 0.4835361945401144, 0.28962793770594486, 0.39800076114174376, 0.45285025205490936, 0.43317354660347435, 0.3923289343966917, 0.3921512868305214, 0.47653287663958677, 0.3837549084054075, 0.5182035688455119, 0.6199998508057126, 0.37409120008920466, 0.3082517145664855, 0.3694232967107382, 0.4319892842132177, 0.4665306781007735, 0.42717864276306017, 0.48515113069627885, 0.5498468446198337, 0.5254325055663833, 0.4696872836395437, 0.463535740876128, 0.5335607407569682, 0.5202089738334876, 0.36589229955947017, 0.5088025068969361, 0.44801088033293296, 0.4809954824831374, 0.4973751350554767, 0.4550434058410468, 0.4934868724736339, 0.526953744837557, 0.42437305800259933, 0.37047413519518757, 0.30835917815092784, 0.38162159479767355, 0.3794559726618914, 0.2609471236136892, 0.42237337576895245, 0.37000028142179475, 0.4316775494706431, 0.42882051825778317, 0.43467179015247837, 0.4731165695391289, 0.3740242494928151, 0.4971646456386077, 0.5199560198898212, 0.33000010319010586, 0.4738036772625531, 0.48734805656694447, 0.45596146638288587, 0.5325340479460493, 0.39581895797298783, 0.39774218962928387, 0.44409201274947063, 0.2800397720323937, 0.5099999999629165, 0.2700633612264204, 0.29856220401284955, 0.4071113844232707, 0.491252190943473, 0.46528994018199, 0.40577865396520735, 0.3925713033769603, 0.4056210702139953, 0.402083618346403, 0.3837448841118271, 0.43242226471368894, 0.23936783138010242, 0.4322367348761128, 0.3771225318821121, 0.4730357780976328, 0.44335941283872216, 0.48015095142301445, 0.43571839581352834, 0.47481508163478847, 0.5236947545881088, 0.471166913354279, 0.4099057086494878, 0.4483031667006918, 0.3806995423981652, 0.3600000097104368, 0.45900671580654034, 0.4583804345698479, 0.48167345388623517, 0.4576683250805638, 0.5273457248866884, 0.4439215440877018, 0.4852479144875042, 0.4868110193616997, 0.42853286688981596, 0.5797281151548077, 0.44000000232258, 0.40862083502851587, 0.42860228215573387, 0.4346020996852434, 0.5197332536547549, 0.45803533422443254, 0.47775776947886356, 0.5681830286000717, 0.5372169838100911, 0.5189454876345349, 0.45287932036475126, 0.5512221065685401, 0.513647204274223, 0.4625888677074568, 0.44895760299614723, 0.559713203202956, 0.4705711422677916, 0.45956256769030235, 0.45067149058780276, 0.5280260504253758, 0.42426377791156084, 0.48477591746489396, 0.46499606746740624, 0.4248144025592478, 0.5500000000000014, 0.4953125153951774, 0.4761080391814477, 0.5057112838480674, 0.4440621695059588, 0.26841186246251597, 0.5248100728497934, 0.3522887788777507, 0.38695270543788185, 0.44015989576059183, 0.389955416228043, 0.4200000000000222, 0.36444038094972453, 0.4108444297955984, 0.4855418775109706, 0.3920263736522827, 0.33594242460976714, 0.4231110972566768, 0.47442077850476155, 0.4822463507965358, 0.4257908746890433, 0.4110655229461881, 0.45241136904991097, 0.4222444737560133, 0.38730441349601163, 0.4096266435985092, 0.5025776385019591, 0.498217866341555, 0.46000000000084074, 0.35462739203188165, 0.47754712045431547, 0.4798154327657045, 0.4801194513520261, 0.38645887722871064, 0.3200002167535746, 0.3050187960772024, 0.2500206549988394, 0.365869429395558, 0.3930833542725065, 0.292682902265816, 0.4653142228971456, 0.3075720505934197, 0.33806761529048457, 0.467252061860645, 0.5203262381766911, 0.4423456885799081, 0.37381325870917254, 0.4660210481384604, 0.4450845657231838, 0.46582157024267473, 0.47577380346767, 0.43177267328909635, 0.41998592714385696, 0.350000021841086, 0.492729978017654, 0.46993713824344696, 0.5427535740568493, 0.5095292665775218, 0.4319408712781086, 0.5400000000000017, 0.4994384302716728, 0.3959178128636569, 0.4482543339297399, 0.42000000004646554, 0.3622262047001743, 0.32533294207693414, 0.4036517916873564, 0.3791144088313186, 0.47261498822544357, 0.3227685365783509, 0.33000000000010743, 0.28850027733082356, 0.4464522582325219, 0.3997368598352901, 0.34133212249353306, 0.4907557963594502, 0.3929493126030627, 0.3267783219409256, 0.2635344310712884, 0.5159526059272787, 0.4075793001152374, 0.4530157108347612, 0.47764746915639195, 0.3489274437188851, 0.38667676758253494, 0.39000000074424634, 0.45656099895000013, 0.3741190513062469, 0.46629953103697175, 0.4073507233243322, 0.3636328144420952, 0.36208104055419255, 0.3413630927047228, 0.4079729234722197, 0.39128323686521754, 0.3754855676468219, 0.37053528104587885, 0.4826873058469164, 0.3705770574499456, 0.41884358528057875, 0.42900758782139464, 0.4795991690996743, 0.43000000000000227, 0.45813994825800025, 0.38035738508172356, 0.41029643539254723, 0.4385863020131148, 0.39333773010813955, 0.37338242669662575, 0.43614548377606754, 0.3633504550889245, 0.4702304980106396, 0.4140320072631266, 0.35616740799129504, 0.3855650767713473, 0.36019810064743124, 0.2032785451544919, 0.30524124258093027, 0.1931155229571243, 0.4239042028849815, 0.38614921322435636, 0.455998660927236, 0.44332675779007674, 0.4500453518528025, 0.4547020542945336, 0.37348765698007386, 0.40031679961693784, 0.45804960736276057, 0.5443719313083887, 0.4103492612145101, 0.5044219548971575, 0.4929433369534956, 0.4239332853269889, 0.4276645365483489, 0.3874742475720217, 0.4314087221755568, 0.4305914604160674, 0.4015392108797238, 0.5436369699884085, 0.3939294630356528, 0.478182094303404, 0.4688196445582986, 0.18639535737232138, 0.3096059092730954, 0.4285283769825466, 0.44000000000000855, 0.5047606262832665, 0.4109946848237712, 0.4833513179512022, 0.469035422080961, 0.4456648453974475, 0.4819100789912051, 0.4093285009340502, 0.32265730722399155]\n"
     ]
    }
   ],
   "source": [
    "rbfi = gen_interpolator(df, ins, outs)\n",
    "\n",
    "tidx = range(len(raw))\n",
    "trows = [raw.iloc[idx] for idx in tidx]\n",
    "y_pred = [(float(rbfi(*[row[rep] for rep in ins])) + 50) / 100 for row in trows]\n",
    "print(y_pred)\n",
    "np.savetxt('out.csv', (50 + np.array(y_pred)) / 100, delimiter=',')"
   ]
  },
  {
   "cell_type": "code",
   "execution_count": null,
   "metadata": {},
   "outputs": [],
   "source": []
  }
 ],
 "metadata": {
  "kernelspec": {
   "display_name": "Python 3",
   "language": "python",
   "name": "python3"
  },
  "language_info": {
   "codemirror_mode": {
    "name": "ipython",
    "version": 3
   },
   "file_extension": ".py",
   "mimetype": "text/x-python",
   "name": "python",
   "nbconvert_exporter": "python",
   "pygments_lexer": "ipython3",
   "version": "3.6.5"
  }
 },
 "nbformat": 4,
 "nbformat_minor": 2
}
