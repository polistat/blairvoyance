{
 "cells": [
  {
   "cell_type": "markdown",
   "metadata": {},
   "source": [
    "# Introduction\n",
    "\n",
    "We want our model to estimate election outcomes based on the fundamentals and poll data. Thus, we need a \"poll feature\" for each district upon which to train. Unfortunately, many districts do not have poll data. We overcome this by interpolating poll results for districts that do not have polls from districts that do have polls based on districts' similarity in demographics and historical election results.\n",
    "\n",
    "The poll data points upon which we will interpolate are [538](https://fivethirtyeight.com/features/2018-house-forecast-methodology/)'s adjusted poll margins. We will pull the most recent adjusted margin (MRAM).\n",
    "\n",
    "We perform the interpolation using [radial basis function interpolation](http://num.math.uni-goettingen.de/schaback/teaching/sc.pdf) (RBF interpolation)."
   ]
  },
  {
   "cell_type": "code",
   "execution_count": 1,
   "metadata": {},
   "outputs": [
    {
     "name": "stdout",
     "output_type": "stream",
     "text": [
      "starting\n",
      "done\n"
     ]
    }
   ],
   "source": [
    "print('starting')\n",
    "\n",
    "import pandas as pd\n",
    "import numpy as np\n",
    "import scipy.cluster\n",
    "import scipy.interpolate\n",
    "from scipy import stats\n",
    "from sklearn.metrics import mean_squared_error as mse, mean_absolute_error as mae\n",
    "import matplotlib.pyplot as plt\n",
    "plt.style.use('ggplot')\n",
    "\n",
    "print('done')"
   ]
  },
  {
   "cell_type": "markdown",
   "metadata": {},
   "source": [
    "# Input Data\n",
    "\n",
    "We will now interpolate real polls based on a large range of input features. We predict based on ProximityOne's [demographic data by congressional district](http://proximityone.com/cd.htm). Specifically, we input the [social characteristics](http://proximityone.com/cd161dp2.htm)."
   ]
  },
  {
   "cell_type": "code",
   "execution_count": 2,
   "metadata": {},
   "outputs": [
    {
     "name": "stdout",
     "output_type": "stream",
     "text": [
      "starting\n",
      "done\n"
     ]
    }
   ],
   "source": [
    "print('starting')\n",
    "\n",
    "pp = pd.read_csv('ppoll.csv', header=None)\n",
    "df = pd.read_excel('handmod.xlsx', sheet='Sheet 1', header=None)\n",
    "\n",
    "ins = ['S' + str(rep).zfill(3) for rep in range(df.shape[1])]\n",
    "outs = ['MRAM']\n",
    "\n",
    "# Drop rows that have non-numerical data\n",
    "df.dropna(inplace=True)\n",
    "df = df[df.applymap(np.isreal).any(1)]\n",
    "df.columns = ins\n",
    "df['MRAM'] = pp.iloc[:,1]\n",
    "\n",
    "raw = df.copy(deep=True)\n",
    "\n",
    "# Drop rows that down have MRAM\n",
    "df = df[df['MRAM'] != 999]\n",
    "\n",
    "print('done')"
   ]
  },
  {
   "cell_type": "markdown",
   "metadata": {},
   "source": [
    "# Preprocessing\n",
    "\n",
    "We obviously must drop all non-numeric data. However, we also must drop rows in which coordinates are duplicated due to quirks in the way the RBF interpolation is calculated (duplicate coordinates result in `scipy` trying to invert a singular matrix)."
   ]
  },
  {
   "cell_type": "code",
   "execution_count": 3,
   "metadata": {
    "scrolled": true
   },
   "outputs": [
    {
     "name": "stdout",
     "output_type": "stream",
     "text": [
      "done\n"
     ]
    }
   ],
   "source": [
    "def get_repeat_idxs(records_array):\n",
    "    idx_sort = np.argsort(records_array)\n",
    "    sorted_records_array = records_array[idx_sort]\n",
    "    vals, idx_start, count = np.unique(sorted_records_array, return_counts=True,\n",
    "                                    return_index=True)\n",
    "    res = np.split(idx_sort, idx_start[1:])\n",
    "    vals = vals[count > 1]\n",
    "    return filter(lambda x: x.size > 1, res)\n",
    "\n",
    "# Drop data columns that have repeats\n",
    "bads = []\n",
    "for cni in range(len(ins)):\n",
    "    cn = ins[cni]\n",
    "    col = np.array(df[cn])\n",
    "    repeated = list(get_repeat_idxs(col))\n",
    "    \n",
    "    if len(repeated) > 0:\n",
    "        bads.append(cn)\n",
    "\n",
    "for cn in bads:\n",
    "    ins.remove(cn)\n",
    "    df.drop(cn, axis=1, inplace=True)\n",
    "    \n",
    "# Drop rows with repeats\n",
    "for name in ins + outs:\n",
    "    _, uidx = np.unique(df[name], return_index=True)\n",
    "    df = df.iloc[uidx]\n",
    "\n",
    "df.reset_index(drop=True, inplace=True)\n",
    "\n",
    "print('done')"
   ]
  },
  {
   "cell_type": "markdown",
   "metadata": {},
   "source": [
    "# Training"
   ]
  },
  {
   "cell_type": "code",
   "execution_count": 4,
   "metadata": {},
   "outputs": [],
   "source": [
    "def gen_interpolator(df_train, _ins, _outs):\n",
    "    inrep = [np.array(df_train[rep]).astype(float) for rep in _ins]\n",
    "    outrep = [np.array(df_train[rep]).astype(float) for rep in _outs]\n",
    "    features = list(inrep) + list(outrep)\n",
    "    \n",
    "    # Check for repeats (there shouldn't be any)\n",
    "    for feature in features:\n",
    "        if len(feature) != len(set(feature)):\n",
    "            print('Repeat')\n",
    "    return scipy.interpolate.Rbf(*features)"
   ]
  },
  {
   "cell_type": "code",
   "execution_count": 5,
   "metadata": {},
   "outputs": [
    {
     "name": "stdout",
     "output_type": "stream",
     "text": [
      "Index(['S000', 'S001', 'S003', 'S006', 'S007', 'S008', 'S009', 'S010', 'S011',\n",
      "       'S012', 'S013', 'S014', 'S017', 'S018', 'S019', 'S020', 'S021', 'S022',\n",
      "       'S026', 'S027', 'S029', 'S030', 'S031', 'S032', 'S033', 'S034', 'S035',\n",
      "       'S036', 'S040', 'S041', 'S043', 'S044', 'S045', 'S046', 'S047', 'S048',\n",
      "       'S049', 'S050', 'S052', 'S053', 'S055', 'S056', 'MRAM'],\n",
      "      dtype='object')\n"
     ]
    },
    {
     "data": {
      "text/plain": [
       "[<matplotlib.lines.Line2D at 0x7f252d601eb8>]"
      ]
     },
     "execution_count": 5,
     "metadata": {},
     "output_type": "execute_result"
    },
    {
     "data": {
      "image/png": "[encoded data removed]",
      "text/plain": [
       "<Figure size 432x288 with 1 Axes>"
      ]
     },
     "metadata": {
      "needs_background": "light"
     },
     "output_type": "display_data"
    }
   ],
   "source": [
    "print(df.columns)\n",
    "plt.plot(df['S007'], df['MRAM'])"
   ]
  },
  {
   "cell_type": "markdown",
   "metadata": {},
   "source": [
    "# Validation\n",
    "\n",
    "We partition our data into training and validation sets. We train the interpolation on most of the available data points, leaving out a set of validation points. We then predict the *MRAM* of the validation points and compare to the true *MRAM*, calculating the error in our interpolation.\n",
    "\n",
    "**TODO**: get the correct number of training points corresponding to the number of available polls"
   ]
  },
  {
   "cell_type": "code",
   "execution_count": 6,
   "metadata": {
    "scrolled": false
   },
   "outputs": [
    {
     "name": "stdout",
     "output_type": "stream",
     "text": [
      "starting\n",
      "- 0.0% -- 10.0% -- 20.0% -- 30.0% -- 40.0% -- 50.0% -- 60.0% -- 70.0% -- 80.0% -- 90.0% -\n",
      "\n",
      "Fraction of Races Predicted Correctly: 0.8989473684210507\n",
      "Mean Squared Prediction Error: 0.34080819630273207\n",
      "Mean Absolute Prediction Error: 0.5791768103166562\n",
      "Mean Prediction Error: 0.48872593516086943\n",
      "Stdev Prediction Error: 0.31930417567558633\n"
     ]
    },
    {
     "data": {
      "image/png": "[encoded data removed]",
      "text/plain": [
       "<Figure size 432x288 with 1 Axes>"
      ]
     },
     "metadata": {
      "needs_background": "light"
     },
     "output_type": "display_data"
    },
    {
     "data": {
      "image/png": "[encoded data removed]",
      "text/plain": [
       "<Figure size 432x288 with 1 Axes>"
      ]
     },
     "metadata": {
      "needs_background": "light"
     },
     "output_type": "display_data"
    },
    {
     "name": "stdout",
     "output_type": "stream",
     "text": [
      "done\n"
     ]
    }
   ],
   "source": [
    "print('starting')\n",
    "# Validate interpolation on many partitions\n",
    "totcor = 0\n",
    "y_pred_all = []\n",
    "y_true_all = []\n",
    "N = 200\n",
    "for k in range(N):\n",
    "    tidx = [np.random.randint(0, len(df)) for i in range(int(2 * len(df) / 10))]\n",
    "    trows = [df.iloc[idx] for idx in tidx]\n",
    "    df_train = df.drop(df.index[tidx])\n",
    "    \n",
    "    rbfi = gen_interpolator(df_train, ins, outs)\n",
    "    \n",
    "    y_pred = [float(rbfi(*[row[rep] for rep in ins])) for row in trows]\n",
    "    y_true = [row[outs[0]] for row in trows]\n",
    "\n",
    "    correct = []\n",
    "    for i in range(len(y_pred)):\n",
    "        correct.append((y_pred[i] > 0.5) == (y_true[i] > 0.5))\n",
    "\n",
    "    rep = np.array(y_pred) * 0.01 / 2 + 0.5\n",
    "#     np.savetxt('out_' + str(k) + '.csv', np.array([rep, y_true]) , delimiter=',')    \n",
    "        \n",
    "    totcor += sum(correct) / len(y_pred)\n",
    "    y_pred_all.extend(y_pred)\n",
    "    y_true_all.extend(correct)\n",
    "    \n",
    "    if k % (N/10) == 0:\n",
    "        print('- ' + str(k/N * 100) + '% -', end='')\n",
    "\n",
    "# This represents the expected rate at which the interpolator correctly predicts the outcome of the race\n",
    "print('\\n\\nFraction of Races Predicted Correctly: ' + str(totcor / N))\n",
    "print('Mean Squared Prediction Error: ' + str(mse(y_true_all, y_pred_all)))\n",
    "print('Mean Absolute Prediction Error: ' + str(mae(y_true_all, y_pred_all)))\n",
    "print('Mean Prediction Error: ' + str(np.mean(np.array(y_true_all) - np.array(y_pred_all))))\n",
    "print('Stdev Prediction Error: ' + str(np.std(np.array(y_true_all) - np.array(y_pred_all))))\n",
    "\n",
    "plt.hist(np.array(y_true_all) - np.array(y_pred_all))\n",
    "plt.xlabel('Error')\n",
    "plt.ylabel('Frequency')\n",
    "plt.title('Prediction Error (Histogram)')\n",
    "plt.show()\n",
    "\n",
    "res = stats.probplot(np.array(y_true_all) - np.array(y_pred_all), plot=plt)\n",
    "plt.title('Prediction Error (Normal Probability Plot)')\n",
    "plt.show()\n",
    "\n",
    "print('done')"
   ]
  },
  {
   "cell_type": "markdown",
   "metadata": {},
   "source": [
    "# Final Answer\n",
    "\n",
    "We now plug in all available data to an interpolator and interpolate all rows. Keep in mind we expect our interpolation error to be drawn from the distribution shown above."
   ]
  },
  {
   "cell_type": "code",
   "execution_count": 7,
   "metadata": {},
   "outputs": [
    {
     "name": "stdout",
     "output_type": "stream",
     "text": [
      "[0.5381674882746397, 0.3181272529044994, 0.2987578290160313, 0.2998002917934559, 0.32635424019863035, 0.37077723574256793, 0.4978977975644432, 0.34808558738571427, 0.3600000000000039, 0.5000000000000067, 0.39106202834755965, 0.2500000000000072, 0.31891848008774426, 0.4289169132982973, 0.4281897711607332, 0.3483481884492352, 0.43620897675528214, 0.21999999999999442, 0.4199156309182177, 0.30999999999999917, 0.23999999999999866, 0.3854844859310935, 0.4585874408182773, 0.49931881866440775, 0.39121045066893223, 0.4868104930027679, 0.508603701637119, 0.4708289795375895, 0.46266277571248327, 0.4805863873280598, 0.48114648351797995, 0.4995566306925048, 0.5308931506613477, 0.5374531985347151, 0.4592817515287786, 0.4721356720006349, 0.43785479833673024, 0.4898268309082372, 0.49626761672456743, 0.4622156083223148, 0.43772888665116527, 0.38600662320469414, 0.4155830006360004, 0.4758986456424221, 0.48311704032406333, 0.5185888986877656, 0.4854369307470594, 0.42753910008126894, 0.5193350256710634, 0.43171211944322163, 0.4815955802168551, 0.4564389496561776, 0.39237091787941925, 0.5069014051302376, 0.49591023130929734, 0.3852902945553254, 0.40148528369900727, 0.49190935391924095, 0.4067697996796267, 0.38051648594169674, 0.43744352987554747, 0.3829695984381405, 0.4377689291990312, 0.4541543633479237, 0.40696642652476367, 0.43539995850416857, 0.44298449929717476, 0.426996246304574, 0.47999999999999776, 0.46784111411864937, 0.43999999999999706, 0.40685829471599266, 0.46683665835037536, 0.49719082511926427, 0.4957288292083959, 0.3925547851881577, 0.3751432152814651, 0.3392532183553807, 0.3656882913848738, 0.4401351754953038, 0.41076216483189554, 0.46975093573758664, 0.48562532449976625, 0.5234666762759004, 0.5103486516907902, 0.5090088230107832, 0.4790642925857127, 0.28439386000793965, 0.35754100931954824, 0.369108275861451, 0.4434339240122763, 0.4570972588883535, 0.4482000806832511, 0.4700000000000033, 0.4366518925481646, 0.4797165557484582, 0.49132676839543143, 0.34956187219593704, 0.30000000000000293, 0.4526463170960635, 0.5280331780457914, 0.4730648980143659, 0.3705612083291291, 0.31953819703862196, 0.3428868437567705, 0.42000000000000004, 0.49958096628544046, 0.46941948748851403, 0.5200453533313599, 0.4764779736499072, 0.4945928249194318, 0.3894424642609544, 0.4005693466245255, 0.4429777006724649, 0.45549802633533654, 0.43495487087893503, 0.3031185069750879, 0.5175634440178374, 0.5143176510128065, 0.5003446241561518, 0.48910117765217187, 0.3777032535237903, 0.37078350942246674, 0.3458494395880697, 0.4422660212246806, 0.3948631153307056, 0.48727322848340227, 0.3694036436200573, 0.4710645679303389, 0.4873486825714821, 0.3691230579735785, 0.22999999999999643, 0.46131823182404874, 0.5187811676914116, 0.45366002535106453, 0.40504350084104557, 0.46859670548790144, 0.4369318716233057, 0.5433667759630629, 0.45947439009907065, 0.49728042367110414, 0.46260814362801495, 0.4472757397305427, 0.39051978109602503, 0.4128550831078899, 0.4035482465894158, 0.3893513337850054, 0.3512308323333885, 0.36166377089811996, 0.41661043858429103, 0.33982549596428013, 0.35878045005939474, 0.3400000000000035, 0.3742690231917536, 0.439156646882376, 0.3852434747541309, 0.4127334387831365, 0.44266478877566096, 0.40517620126107756, 0.44968076277701075, 0.4499999999999911, 0.43591793142859836, 0.3395000462911435, 0.2579734395699904, 0.4106669356108218, 0.46989895745191035, 0.36970998772945585, 0.39142109122717106, 0.4477111349728786, 0.4149388340559068, 0.3833076815968903, 0.3786404662109679, 0.4460339433455256, 0.38930895786509145, 0.5190846819199022, 0.6200000000000006, 0.36178684402053785, 0.324315557320196, 0.38018114550532967, 0.4097869413234465, 0.46884870342747986, 0.4360586488934095, 0.4605728897415129, 0.5414617110625783, 0.5190643423692713, 0.4493644932169647, 0.4805875670115827, 0.5226016588230913, 0.5252447401588505, 0.42091017445150647, 0.5071337493634699, 0.48843452806590637, 0.4628379647592371, 0.5003276461862964, 0.4578914114397845, 0.5114580789466148, 0.5209850176256805, 0.4130037204129775, 0.3630543000803075, 0.3120357674051776, 0.3637431886555922, 0.3689949305406348, 0.27493899188155124, 0.4277195984810316, 0.36999999999999844, 0.3985516841080603, 0.4360898370566, 0.4248590572114306, 0.4577461886920141, 0.39863172095983, 0.49951620855641754, 0.515876216191949, 0.33000000000000107, 0.46413142274950436, 0.46010084365019877, 0.46990265927540253, 0.5294945337794067, 0.39295996196758654, 0.3743348137137994, 0.4433181222783167, 0.28000000000000225, 0.5099999999999967, 0.27000000000000224, 0.34132757231359245, 0.41425062437563365, 0.45265519571338153, 0.4633489823345305, 0.3994920402102129, 0.39962788681067174, 0.3962267922807281, 0.40297819129312407, 0.37792665944772397, 0.4313745735928216, 0.28512449765912473, 0.434001478852468, 0.39423133238503205, 0.4642221111482283, 0.4378017430870538, 0.48786155464653114, 0.420099289858171, 0.47624988427211723, 0.5097153605621709, 0.4793569443685799, 0.42826439480915135, 0.42802726138350145, 0.41108206855209084, 0.46679109683750086, 0.4780468112525875, 0.46856684184439534, 0.4983804111298853, 0.4468049810946153, 0.5226135310187878, 0.44188950677411865, 0.4970206725402133, 0.4709790936723297, 0.39497888512878054, 0.5800000000000027, 0.3656456035136757, 0.4252583122977731, 0.4594374658885316, 0.45467353312282666, 0.5248604363449019, 0.46548298836351565, 0.46919969375279846, 0.5602076185430895, 0.5484540406208063, 0.533225000670644, 0.49319856735866785, 0.5592470687526432, 0.5602015763078612, 0.4636692346268889, 0.4833753169421162, 0.5347657617925416, 0.48756637120163404, 0.48189339490187444, 0.4664228185413818, 0.5433663724068755, 0.4193824795822796, 0.47079264180339564, 0.45281541316610396, 0.44687596020999854, 0.5499999999999942, 0.5000798586666112, 0.45038431175073756, 0.47173753148425823, 0.445906532827014, 0.2917222345179282, 0.4977290783289068, 0.38288371449221414, 0.3834300408592832, 0.44000000000000206, 0.3913026338986505, 0.35856195224688014, 0.37137961523533813, 0.39442914572774157, 0.47448124282124726, 0.3980398704257673, 0.29928851145443924, 0.43907030582818374, 0.4502598825906765, 0.4796929725640784, 0.4070373326189187, 0.3878303849823155, 0.42955151646272194, 0.41121514013299354, 0.38340732443713577, 0.40593514426931687, 0.5101279920938482, 0.4963048549253566, 0.4600000000000031, 0.36687963563366477, 0.46001260774470554, 0.4549403582101037, 0.4572631996109986, 0.3932707958553838, 0.31999999999999806, 0.33010376986471535, 0.3220811982196261, 0.3602989801031131, 0.3980123060108345, 0.3126746279249335, 0.458352507530147, 0.32540001404496843, 0.333134747289182, 0.46674297539087584, 0.520616370938956, 0.4489000614794221, 0.36912186234158184, 0.4380908469164475, 0.41808040589873663, 0.421420331439166, 0.46338412522548955, 0.41141572011865457, 0.4105494746779845, 0.3499999999999994, 0.45280030194823995, 0.4939639241484157, 0.5375562419703892, 0.5104869514171392, 0.43369739777082006, 0.5399999999999971, 0.4593463812545665, 0.42116546901968377, 0.45920396696454424, 0.3992880060340629, 0.35261805298913695, 0.34286834500638497, 0.3997396328399131, 0.36281315247585355, 0.47240551506079265, 0.327351271438417, 0.3300000000000072, 0.29594324232973834, 0.4514264430693957, 0.40137968154929227, 0.3567946296729587, 0.46923005359573833, 0.3837983994344354, 0.3344605518295676, 0.2813879815013778, 0.5309629774058391, 0.3996881871282496, 0.45237481014769043, 0.48329558784298166, 0.38262128297440356, 0.3890915036392417, 0.39000000000000623, 0.45048636613585735, 0.4131419966305043, 0.4632394988078503, 0.42117506685793216, 0.3743239994074421, 0.3731394461809987, 0.3539872821249819, 0.40795000541567006, 0.3937654237681323, 0.38398028570809295, 0.39196234506243877, 0.48216161777031274, 0.3899541608168031, 0.40934553400907303, 0.41277960367611044, 0.491694094028289, 0.42999999999999616, 0.46388062904328553, 0.41102777380109456, 0.4075247542407685, 0.4365141471732805, 0.37760364128742996, 0.3891573909019237, 0.4504680935924186, 0.39999424855019283, 0.45921916858243383, 0.4164006501012958, 0.3757741983780769, 0.4090476034671391, 0.3697812833693743, 0.18800295770494402, 0.24964250168832525, 0.1953328403825083, 0.41907527403975586, 0.35404774477956336, 0.43964527903474926, 0.4222880926814627, 0.4332322131103301, 0.4281970191950468, 0.37464131395670974, 0.4088555917924086, 0.45633275664630335, 0.524279736490862, 0.40999999999998926, 0.4621791372941074, 0.5044838691317115, 0.4393689417196087, 0.4584603053123708, 0.4072164080133258, 0.43090746418505677, 0.4264060793375539, 0.4253083836046567, 0.5359961707467527, 0.43843950485413097, 0.4813205428060474, 0.47759892910508306, 0.23494698377645196, 0.372925777287042, 0.4702223707358375, 0.36870250188924847, 0.4616976397294923, 0.4105267406225521, 0.4748025273160674, 0.45418540063222856, 0.43246309257293447, 0.4539584645977566, 0.3985817064584365, 0.33721877736180295]\n"
     ]
    }
   ],
   "source": [
    "rbfi = gen_interpolator(df, ins, outs)\n",
    "\n",
    "tidx = range(len(raw))\n",
    "trows = [raw.iloc[idx] for idx in tidx]\n",
    "y_pred = [float(rbfi(*[row[rep] for rep in ins])) for row in trows]\n",
    "print(y_pred)\n",
    "np.savetxt('out.csv', np.array(y_pred) * 0.01 / 2 + 0.5, delimiter=',')"
   ]
  },
  {
   "cell_type": "code",
   "execution_count": null,
   "metadata": {},
   "outputs": [],
   "source": []
  }
 ],
 "metadata": {
  "kernelspec": {
   "display_name": "Python 3",
   "language": "python",
   "name": "python3"
  },
  "language_info": {
   "codemirror_mode": {
    "name": "ipython",
    "version": 3
   },
   "file_extension": ".py",
   "mimetype": "text/x-python",
   "name": "python",
   "nbconvert_exporter": "python",
   "pygments_lexer": "ipython3",
   "version": "3.7.0"
  }
 },
 "nbformat": 4,
 "nbformat_minor": 2
}
