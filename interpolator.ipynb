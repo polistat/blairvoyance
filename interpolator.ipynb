{
 "cells": [
  {
   "cell_type": "markdown",
   "metadata": {},
   "source": [
    "# Introduction\n",
    "\n",
    "We want our model to estimate election outcomes based on the fundamentals and poll data. Thus, we need a \"poll feature\" for each district upon which to train. Unfortunately, many districts do not have poll data. We overcome this by interpolating poll results for districts that do not have polls from districts that do have polls based on districts' similarity in demographics and historical election results.\n",
    "\n",
    "The poll data points upon which we will interpolate are [538](https://fivethirtyeight.com/features/2018-house-forecast-methodology/)'s adjusted poll margins. We will pull the most recent adjusted margin (MRAM).\n",
    "\n",
    "We perform the interpolation using [radial basis function interpolation](http://num.math.uni-goettingen.de/schaback/teaching/sc.pdf) (RBF interpolation)."
   ]
  },
  {
   "cell_type": "code",
   "execution_count": 1,
   "metadata": {},
   "outputs": [
    {
     "name": "stdout",
     "output_type": "stream",
     "text": [
      "starting\n",
      "done\n"
     ]
    }
   ],
   "source": [
    "print('starting')\n",
    "\n",
    "import pandas as pd\n",
    "import numpy as np\n",
    "import scipy.cluster\n",
    "import scipy.interpolate\n",
    "from scipy import stats\n",
    "from sklearn.metrics import mean_squared_error as mse, mean_absolute_error as mae\n",
    "import matplotlib.pyplot as plt\n",
    "plt.style.use('ggplot')\n",
    "\n",
    "print('done')"
   ]
  },
  {
   "cell_type": "markdown",
   "metadata": {},
   "source": [
    "# Input Data\n",
    "\n",
    "We will now interpolate real polls based on a large range of input features. We predict based on ProximityOne's [demographic data by congressional district](http://proximityone.com/cd.htm). Specifically, we input the [social characteristics](http://proximityone.com/cd161dp2.htm)."
   ]
  },
  {
   "cell_type": "code",
   "execution_count": 2,
   "metadata": {},
   "outputs": [
    {
     "name": "stdout",
     "output_type": "stream",
     "text": [
      "starting\n",
      "done\n"
     ]
    }
   ],
   "source": [
    "print('starting')\n",
    "\n",
    "pp = pd.read_csv('ppoll_n.csv', header=None)\n",
    "df = pd.read_excel('handmod.xlsx', sheet='Sheet 1', header=None)\n",
    "\n",
    "ins = ['S' + str(rep).zfill(3) for rep in range(df.shape[1])]\n",
    "outs = ['MRAM']\n",
    "\n",
    "# Drop rows that have non-numerical data\n",
    "df.dropna(inplace=True)\n",
    "df = df[df.applymap(np.isreal).any(1)]\n",
    "df.columns = ins\n",
    "df['MRAM'] = pp.iloc[:,1]\n",
    "\n",
    "raw = df.copy(deep=True)\n",
    "\n",
    "# Drop rows that down have MRAM\n",
    "df = df[df['MRAM'] != 0]\n",
    "\n",
    "print('done')"
   ]
  },
  {
   "cell_type": "markdown",
   "metadata": {},
   "source": [
    "# Preprocessing\n",
    "\n",
    "We obviously must drop all non-numeric data. However, we also must drop rows in which coordinates are duplicated due to quirks in the way the RBF interpolation is calculated (duplicate coordinates result in `scipy` trying to invert a singular matrix)."
   ]
  },
  {
   "cell_type": "code",
   "execution_count": 3,
   "metadata": {
    "scrolled": true
   },
   "outputs": [
    {
     "name": "stdout",
     "output_type": "stream",
     "text": [
      "done\n"
     ]
    }
   ],
   "source": [
    "def get_repeat_idxs(records_array):\n",
    "    idx_sort = np.argsort(records_array)\n",
    "    sorted_records_array = records_array[idx_sort]\n",
    "    vals, idx_start, count = np.unique(sorted_records_array, return_counts=True,\n",
    "                                    return_index=True)\n",
    "    res = np.split(idx_sort, idx_start[1:])\n",
    "    vals = vals[count > 1]\n",
    "    return filter(lambda x: x.size > 1, res)\n",
    "\n",
    "# Drop data columns that have repeats\n",
    "bads = []\n",
    "for cni in range(len(ins)):\n",
    "    cn = ins[cni]\n",
    "    col = np.array(df[cn])\n",
    "    repeated = list(get_repeat_idxs(col))\n",
    "    \n",
    "    if len(repeated) > 0:\n",
    "        bads.append(cn)\n",
    "\n",
    "for cn in bads:\n",
    "    ins.remove(cn)\n",
    "    df.drop(cn, axis=1, inplace=True)\n",
    "    \n",
    "# Drop rows with repeats\n",
    "for name in ins + outs:\n",
    "    _, uidx = np.unique(df[name], return_index=True)\n",
    "    df = df.iloc[uidx]\n",
    "\n",
    "df.reset_index(drop=True, inplace=True)\n",
    "\n",
    "print('done')"
   ]
  },
  {
   "cell_type": "markdown",
   "metadata": {},
   "source": [
    "# Training"
   ]
  },
  {
   "cell_type": "code",
   "execution_count": 4,
   "metadata": {},
   "outputs": [],
   "source": [
    "def gen_interpolator(df_train, _ins, _outs):\n",
    "    inrep = [np.array(df_train[rep]).astype(float) for rep in _ins]\n",
    "    outrep = [np.array(df_train[rep]).astype(float) for rep in _outs]\n",
    "    features = list(inrep) + list(outrep)\n",
    "    \n",
    "    # Check for repeats (there shouldn't be any)\n",
    "    for feature in features:\n",
    "        if len(feature) != len(set(feature)):\n",
    "            print('Repeat')\n",
    "    return scipy.interpolate.Rbf(*features)"
   ]
  },
  {
   "cell_type": "code",
   "execution_count": 5,
   "metadata": {},
   "outputs": [],
   "source": [
    "# print(df.columns)\n",
    "# plt.plot(df['S007'], df['MRAM'])"
   ]
  },
  {
   "cell_type": "markdown",
   "metadata": {},
   "source": [
    "# Validation\n",
    "\n",
    "We partition our data into training and validation sets. We train the interpolation on most of the available data points, leaving out a set of validation points. We then predict the *MRAM* of the validation points and compare to the true *MRAM*, calculating the error in our interpolation.\n",
    "\n",
    "**TODO**: get the correct number of training points corresponding to the number of available polls"
   ]
  },
  {
   "cell_type": "code",
   "execution_count": 6,
   "metadata": {
    "scrolled": false
   },
   "outputs": [
    {
     "name": "stdout",
     "output_type": "stream",
     "text": [
      "starting\n",
      "- 0.0% -- 10.0% -- 20.0% -- 30.0% -- 40.0% -- 50.0% -- 60.0% -- 70.0% -- 80.0% -- 90.0% -\n",
      "\n",
      "Fraction of Races Predicted Correctly: 0.9032222222222266\n",
      "Mean Squared Prediction Error: 133.2966044080239\n",
      "Mean Absolute Prediction Error: 9.933776314512373\n",
      "Mean Prediction Error: 9.744881696738016\n",
      "Stdev Prediction Error: 6.191436434673647\n"
     ]
    },
    {
     "data": {
      "image/png": "[encoded data removed]",
      "text/plain": [
       "<Figure size 432x288 with 1 Axes>"
      ]
     },
     "metadata": {
      "needs_background": "light"
     },
     "output_type": "display_data"
    },
    {
     "data": {
      "image/png": "[encoded data removed]",
      "text/plain": [
       "<Figure size 432x288 with 1 Axes>"
      ]
     },
     "metadata": {
      "needs_background": "light"
     },
     "output_type": "display_data"
    },
    {
     "name": "stdout",
     "output_type": "stream",
     "text": [
      "done\n"
     ]
    }
   ],
   "source": [
    "print('starting')\n",
    "# Validate interpolation on many partitions\n",
    "totcor = 0\n",
    "y_pred_all = []\n",
    "y_true_all = []\n",
    "N = 1000\n",
    "for k in range(N):\n",
    "    tidx = [np.random.randint(0, len(df)) for i in range(int(5 * len(df) / 10))]\n",
    "    trows = [df.iloc[idx] for idx in tidx]\n",
    "    df_train = df.drop(df.index[tidx])\n",
    "    \n",
    "    rbfi = gen_interpolator(df_train, ins, outs)\n",
    "    \n",
    "    y_pred = [float(rbfi(*[row[rep] for rep in ins])) for row in trows]\n",
    "    y_true = [row[outs[0]] for row in trows]\n",
    "\n",
    "    correct = []\n",
    "    for i in range(len(y_pred)):\n",
    "        correct.append((y_pred[i] > 0.5) == (y_true[i] > 0.5))\n",
    "\n",
    "    rep = np.array(y_pred) * 0.01 / 2 + 0.5\n",
    "#     np.savetxt('out_' + str(k) + '.csv', np.array([rep, y_true]) , delimiter=',')    \n",
    "        \n",
    "    totcor += sum(correct) / len(y_pred)\n",
    "    y_pred_all.extend(y_pred)\n",
    "    y_true_all.extend(correct)\n",
    "    \n",
    "    if k % (N / 10) == 0:\n",
    "        print('- ' + str(k / N * 100) + '% -', end='')\n",
    "\n",
    "# This represents the expected rate at which the interpolator correctly predicts the outcome of the race\n",
    "print('\\n\\nFraction of Races Predicted Correctly: ' + str(totcor / N))\n",
    "print('Mean Squared Prediction Error: ' + str(mse(y_true_all, y_pred_all)))\n",
    "print('Mean Absolute Prediction Error: ' + str(mae(y_true_all, y_pred_all)))\n",
    "print('Mean Prediction Error: ' + str(np.mean(np.array(y_true_all) - np.array(y_pred_all))))\n",
    "print('Stdev Prediction Error: ' + str(np.std(np.array(y_true_all) - np.array(y_pred_all))))\n",
    "\n",
    "plt.hist(np.array(y_true_all) - np.array(y_pred_all))\n",
    "plt.xlabel('Error')\n",
    "plt.ylabel('Frequency')\n",
    "plt.title('Prediction Error (Histogram)')\n",
    "plt.show()\n",
    "\n",
    "res = stats.probplot(np.array(y_true_all) - np.array(y_pred_all), plot=plt)\n",
    "plt.title('Prediction Error (Normal Probability Plot)')\n",
    "plt.show()\n",
    "\n",
    "print('done')"
   ]
  },
  {
   "cell_type": "markdown",
   "metadata": {},
   "source": [
    "# Final Answer\n",
    "\n",
    "We now plug in all available data to an interpolator and interpolate all rows. Keep in mind we expect our interpolation error to be drawn from the distribution shown above."
   ]
  },
  {
   "cell_type": "code",
   "execution_count": 10,
   "metadata": {},
   "outputs": [
    {
     "name": "stdout",
     "output_type": "stream",
     "text": [
      "[-3.7153109406974636, -19.13792826600144, -22.31687913250829, -22.7752018697295, -18.221868712795583, -12.175703082815915, -0.30893908269490566, -14.224602421732584, -13.889768978777397, -2.2737367544323206e-13, -8.477248678094497, -24.9847112606692, -14.21751589263846, -7.015120485784109, -6.360405852698477, -14.140465894034435, -5.156361266285046, -27.989653437122854, -8.485487904711533, -18.99995549671013, -25.99638456614207, -10.931681341085607, -0.37247761824147574, -3.069060801910382, -9.497794217896484, -3.1078208536452507, 0.43893382589681096, 4.547473508864641e-13, -5.140313805800929, -0.37544551388532454, -1.5686019953889172, 2.688441422296023, 2.0007680215335313, 2.7270875957800627, -4.082740809841539, -2.931681868363853, -6.104236783403621, -4.0403597313365935, -0.8822031061387179, -4.069426027079658, -5.274347223235395, -10.370278651602803, -7.951394748386974, -2.8470356385506648, -2.9939152940773965, -2.4938935184874254, -2.3217590241579273, -3.9723717222191226, 0.5479623277883547, -6.0600844679293004, 0.3838812393718172, -3.5279867953073563, -6.639277995163184, 2.2071197669844196, -4.32663635447625, -10.385329612933674, -6.104552887458453, 0.23410056943191648, -5.8811604831271325, -5.281442566540932, -9.701464474071372, -9.712849120602414, -5.179126794747617, -2.8322224610991498, -7.633530378794148, -1.9999999999997726, -7.266414249423178, -3.6920811241107003, -1.9961642186113409, 1.0000000000000568, -5.999999999347665, -7.501473621049399, 0.07224279914828458, -0.16296050874689172, 3.0657664326254235, -10.966465461261237, -16.74616241212192, -14.109829467276086, -14.083180397689091, -3.831379362606242, -9.599734541311364, -2.8178673170581305, -3.02922964351049, 0.48623038936182184, 0.36248161348117947, -2.1546111107084585, -0.9293219201232432, -22.68992634954725, -16.63066351016792, -14.592140498460168, -5.267883608240709, -3.7744742996108016, -5.599665533654218, -2.9999999999712372, -6.339609482607955, -2.0257411880812697, -0.2784422434179987, -12.072643510728199, -19.999910686778264, -6.714646414265644, 2.583424529948843, -2.426071683392422, -10.43888831777599, -18.036814692444324, -8.445322113568068, -7.99999900474748, 0.010487926666314706, -0.836923576750678, 1.0000857201727058, -2.1289578505995905, -0.36686904929183584, -12.48285119701859, -5.768871976257742, -5.638050049591129, -5.018239694734234, -7.633484393107324, -19.280565180068777, 2.8527971064291933, 1.6263577244981207, 0.4817572457239976, -1.528387573114287, -12.217096602824995, -13.741469180932512, -16.34988446084523, -4.902460462981821, -10.460910732516254, -1.4084438384559235, -14.881507016223225, -2.8367366525833404, -0.3302190460595966, -12.45171439003633, -26.965504738942172, -2.627694652598393, 2.811241373977623, -2.753792753967332, -6.608257639174781, -0.8826953841514182, -6.907904700498591, 5.625823044384219, -3.309919176222138, -0.3603449395276357, -5.49939433074411, -3.385313378087062, -8.545090685403522, -10.656439401765255, -8.99999998801843, -8.516974729281344, -16.56748924999819, -15.196616807568688, -6.839609215604213, -14.708952409463677, -14.45174803312213, -15.999995198163788, -10.952418863355831, -2.491059785163486, -10.820948800764313, -7.687008712306522, -3.553817860740537, -7.014975655924985, -3.3489913299899854, -5.000000000000284, -8.448859214533968, -17.6860781135224, -29.620169106139485, -8.917419195297839, -1.6463805459885066, -21.037206229405456, -10.199923885825825, -4.714974794509828, -6.682645339652623, -10.767106560331115, -10.784871316948141, -2.346712336042515, -11.624509159459592, 1.8203568845503924, 11.999985080570696, -12.590879991079987, -19.17482854335185, -13.057670328926974, -6.801071578678318, -3.3469321899228817, -7.2821357236944095, -1.4848869303722267, 4.984684461983306, 2.5432505566378723, -3.0312716360457443, -3.6464259123870875, 3.3560740756968244, 2.0208973833481423, -13.410770044053265, 0.8802506896934403, -5.198911966706817, -1.9004517516865462, -0.26248649445238925, -4.495659415895489, -0.651312752636727, 2.695374483755245, -7.56269419974052, -12.952586480481443, -19.164082184907443, -11.83784052023259, -12.05440273381086, -23.905287638631307, -7.762662423105269, -12.99997185782064, -6.832245052936003, -7.1179481742217945, -6.532820984752391, -2.6883430460873114, -12.597575050718433, -0.2835354361393456, 1.9956019889812069, -16.999989680989955, -2.619632273744884, -1.265194343305609, -4.403853361711583, 3.253404794604762, -10.418104202701443, -10.22578103707167, -5.590798725053219, -21.99602279676094, 0.9999999962911943, -22.993663877358813, -20.143779598715298, -9.2888615576735, -0.8747809056533242, -3.471005981801568, -9.422134603479435, -10.742869662304088, -9.4378929786007, -9.791638165359927, -11.625511588817744, -6.757773528632697, -26.063216861989872, -6.776326512388607, -12.287746811788963, -2.696422190237172, -5.664058716128579, -1.984904857698666, -6.428160418647508, -2.518491836521605, 2.3694754588108253, -2.883308664572212, -9.00942913505105, -5.169683329930962, -11.930045760183845, -13.99999902895695, -4.099328419346193, -4.161956543015378, -1.8326546113771656, -4.233167491943959, 2.734572488667709, -5.607845591230273, -1.4752085512500344, -1.3188980638303747, -7.146713311019084, 7.972811515479634, -5.999999767742565, -9.13791649714841, -7.139771784426671, -6.539790031475661, 1.9733253654752616, -4.196466577557658, -2.224223052114212, 6.818302860006838, 3.7216983810085367, 1.8945487634528035, -4.712067963525385, 5.122210656853326, 1.3647204274218439, -3.741113229254779, -5.104239700386643, 5.971320320294922, -2.9428857732206666, -4.0437432309699375, -4.932850941219755, 2.802605042537351, -7.573622208844, -1.5224082535108607, -3.5003932532595172, -7.5185597440753895, 4.999999999999943, -0.46874846048226004, -2.389196081855715, 0.5711283848063431, -5.593783049404635, -23.158813753748404, 2.4810072849786593, -14.77112211222493, -11.304729456211788, -5.984010423940788, -11.004458377195988, -7.999999999997897, -13.555961905027743, -8.915557020440446, -1.4458122489032803, -10.79736263477156, -16.40575753902374, -7.688890274332266, -2.5579221495240176, -1.7753649203467603, -7.420912531095837, -8.89344770538142, -4.75886309500882, -7.7755526243991255, -11.269558650399205, -9.037335640149166, 0.257763850195488, -0.17821336584495384, -3.9999999999166675, -14.53726079681195, -2.2452879545688518, -2.0184567234299493, -1.9880548647976184, -11.354112277129161, -17.999978324642825, -19.49812039228027, -24.997934500116344, -13.413057060444203, -10.691664572749858, -20.731709773418856, -3.4685777102858992, -19.24279494065877, -16.19323847095194, -3.27479381393573, 2.0326238176689913, -5.765431142009504, -12.618674129082976, -3.3978951861540168, -5.491543427681933, -3.4178429757324693, -2.4226196532331414, -6.822732671090307, -8.00140728561459, -14.999997815891675, -0.727002198234743, -3.0062861756554184, 4.275357405684645, 0.9529266577519877, -6.805912872189026, 4.000000000000057, -0.0561569728329232, -10.40821871363454, -5.17456660702635, -7.999999995354074, -13.777379529982568, -17.466705792306584, -9.634820831264733, -12.088559116868282, -2.738501177456328, -17.72314634216559, -16.999999999990166, -21.149972266917644, -5.354774176748293, -10.026314016471161, -15.866787750647006, -0.9244203640549813, -10.705068739693957, -17.32216780590778, -23.646556892871246, 1.5952605927270724, -9.242069988476715, -4.698428916524335, -2.2352530843608065, -15.107255628111602, -11.332323241746622, -10.99999992557548, -4.343900105000216, -12.588094869375482, -3.370046896303279, -9.264927667567349, -13.636718555790253, -13.791895944580972, -15.863690729527605, -9.202707652778258, -10.871676313479156, -12.451443235318948, -12.946471895412458, -1.7312694153085886, -12.94229425500589, -8.115641471942808, -7.0992412178609925, -2.0400830900324536, -6.999999999999545, -4.186005174200659, -11.964261491827983, -8.970356460745506, -6.141369798688743, -10.666226989186953, -12.661757330338332, -6.385451622394385, -13.66495449110812, -2.976950198936038, -8.596799273687566, -14.383259200872317, -11.443492322866405, -13.980189935257158, -29.67214548455115, -19.475875741907032, -30.688447704288194, -7.609579711502249, -11.385078677564309, -4.400133907276597, -5.6673242209922705, -4.9954648147199805, -4.529794570546983, -12.651234301992673, -9.96832003830616, -4.195039263723913, 4.437193130838409, -8.96507387854956, 0.4421954897150613, -0.7056663046505491, -7.606671467301226, -7.233546345165223, -11.25257524279803, -6.859127782444602, -6.940853958393802, -9.84607891202802, 4.363696998840055, -10.60705369643506, -2.1817905696599382, -3.1180355441702545, -31.36046426276792, -19.039409072690688, -7.147162301745965, -5.999999999999943, 0.47606262832647417, -8.900531517623165, -1.6648682048795536, -3.0964577919045837, -5.433515460255194, -1.8089921008792942, -9.067149906595091, -17.734269277600617]\n"
     ]
    }
   ],
   "source": [
    "rbfi = gen_interpolator(df, ins, outs)\n",
    "\n",
    "tidx = range(len(raw))\n",
    "trows = [raw.iloc[idx] for idx in tidx]\n",
    "y_pred = [float(rbfi(*[row[rep] for rep in ins])) for row in trows]\n",
    "print(y_pred)\n",
    "np.savetxt('out.csv', (50 + np.array(y_pred)) / 100, delimiter=',')"
   ]
  },
  {
   "cell_type": "code",
   "execution_count": null,
   "metadata": {},
   "outputs": [],
   "source": []
  }
 ],
 "metadata": {
  "kernelspec": {
   "display_name": "Python 3",
   "language": "python",
   "name": "python3"
  },
  "language_info": {
   "codemirror_mode": {
    "name": "ipython",
    "version": 3
   },
   "file_extension": ".py",
   "mimetype": "text/x-python",
   "name": "python",
   "nbconvert_exporter": "python",
   "pygments_lexer": "ipython3",
   "version": "3.7.0"
  }
 },
 "nbformat": 4,
 "nbformat_minor": 2
}
