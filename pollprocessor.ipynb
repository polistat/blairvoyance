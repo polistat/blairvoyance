{
  "cells": [
    {
      "metadata": {
        "trusted": true
      },
      "cell_type": "code",
      "source": "import pandas as pd\nimport numpy as np\nimport matplotlib.pyplot as plt\nfrom datetime import date\nplt.style.use('ggplot')",
      "execution_count": 1,
      "outputs": []
    },
    {
      "metadata": {
        "trusted": true
      },
      "cell_type": "code",
      "source": "WEIGHTS = {'A': .177,\n           'B': .151,\n           'C': .130,\n           'D': .077}\n\nDAYDIV = 167",
      "execution_count": 2,
      "outputs": []
    },
    {
      "metadata": {
        "trusted": true
      },
      "cell_type": "code",
      "source": "districts = list(pd.read_csv('districts.csv', header=None).iloc[:,0])\ndf = pd.read_excel('PoliStat polls (Responses).xlsx', sheet='Form Responses 1')",
      "execution_count": 3,
      "outputs": []
    },
    {
      "metadata": {
        "trusted": true,
        "scrolled": false
      },
      "cell_type": "code",
      "source": "polls = {district: [] for district in districts}\n\nfor index, row in df.iterrows():\n    dm = row['Democratic percent (Not margin, not 2-party)']\n    w = WEIGHTS[row['Pollster Grade https://projects.fivethirtyeight.com/pollster-ratings/ (Put D if N/A)']]\n    year = int(str(row['Final date taken']).split(' ')[0].split('-')[0])\n    month = int(str(row['Final date taken']).split(' ')[0].split('-')[1])\n    day = int(str(row['Final date taken']).split(' ')[0].split('-')[2])\n    \n    d0 = date(year, month, day)\n    d1 = date(2018, 11, 6)\n    days = d1 - d0\n    days = days.days\n    \n    nw = np.exp(days / 30)\n    polls[row['District Name (e.g. AZ-03, WA-11)']].append([dm, nw])",
      "execution_count": 4,
      "outputs": []
    },
    {
      "metadata": {
        "trusted": true
      },
      "cell_type": "code",
      "source": "# Prior to Python 3.6, dicts do not preserve order and this output will not preserve district order\n# Run this thing in 3.6+ (the way this notebook is currently configured to run) or suffer.\nfor poll in polls:\n    if len(polls[poll]) > 0:\n        rep = np.array(polls[poll])\n        polls[poll] = np.average(rep[:,0], weights=rep[:,1])\n    else:\n        polls[poll] = 0\nwith open('ppoll.csv', 'w') as f:\n    [f.write('{0},{1}\\n'.format(key, value)) for key, value in polls.items()]",
      "execution_count": 5,
      "outputs": []
    },
    {
      "metadata": {
        "trusted": true
      },
      "cell_type": "code",
      "source": "print('Done')",
      "execution_count": 6,
      "outputs": [
        {
          "output_type": "stream",
          "text": "Done\n",
          "name": "stdout"
        }
      ]
    }
  ],
  "metadata": {
    "kernelspec": {
      "name": "python36",
      "display_name": "Python 3.6",
      "language": "python"
    },
    "language_info": {
      "mimetype": "text/x-python",
      "nbconvert_exporter": "python",
      "name": "python",
      "pygments_lexer": "ipython3",
      "version": "3.6.6",
      "file_extension": ".py",
      "codemirror_mode": {
        "version": 3,
        "name": "ipython"
      }
    }
  },
  "nbformat": 4,
  "nbformat_minor": 2
}