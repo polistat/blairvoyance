{
 "cells": [
  {
   "cell_type": "code",
   "execution_count": 1,
   "metadata": {},
   "outputs": [],
   "source": [
    "import pandas as pd\n",
    "import numpy as np\n",
    "import matplotlib.pyplot as plt\n",
    "from datetime import date\n",
    "plt.style.use('ggplot')"
   ]
  },
  {
   "cell_type": "code",
   "execution_count": 2,
   "metadata": {},
   "outputs": [],
   "source": [
    "WEIGHTS = {'A': .177,\n",
    "           'B': .151,\n",
    "           'C': .130,\n",
    "           'D': .077}\n",
    "\n",
    "DAYDIV = 167"
   ]
  },
  {
   "cell_type": "code",
   "execution_count": 3,
   "metadata": {},
   "outputs": [],
   "source": [
    "districts = list(pd.read_csv('districts.csv', header=None).iloc[:,0])\n",
    "df = pd.read_excel('PoliStat polls (Responses).xlsx', sheet='Form Responses 1')"
   ]
  },
  {
   "cell_type": "code",
   "execution_count": 4,
   "metadata": {
    "scrolled": false
   },
   "outputs": [],
   "source": [
    "polls = {district: [] for district in districts}\n",
    "\n",
    "for index, row in df.iterrows():\n",
    "    dm = row['Democratic percent (Not margin, not 2-party)']\n",
    "    w = WEIGHTS[row['Pollster Grade https://projects.fivethirtyeight.com/pollster-ratings/ (Put D if N/A)']]\n",
    "    year = int(str(row['Final date taken']).split(' ')[0].split('-')[0])\n",
    "    month = int(str(row['Final date taken']).split(' ')[0].split('-')[1])\n",
    "    day = int(str(row['Final date taken']).split(' ')[0].split('-')[2])\n",
    "    \n",
    "    d0 = date(year, month, day)\n",
    "    d1 = date(2018, 11, 6)\n",
    "    days = d1 - d0\n",
    "    days = days.days\n",
    "    \n",
    "    nw = np.exp(days / 30)\n",
    "    polls[row['District Name (e.g. AZ-03, WA-11)']].append([dm, nw])"
   ]
  },
  {
   "cell_type": "code",
   "execution_count": 5,
   "metadata": {},
   "outputs": [],
   "source": [
    "# Prior to Python 3.6, dicts do not preserve order and this output will not preserve district order\n",
    "# Run this thing in 3.6+ (the way this notebook is currently configured to run) or suffer.\n",
    "for poll in polls:\n",
    "    if len(polls[poll]) > 0:\n",
    "        rep = np.array(polls[poll])\n",
    "        polls[poll] = np.average(rep[:,0], weights=rep[:,1])\n",
    "    else:\n",
    "        polls[poll] = 999\n",
    "with open('ppoll.csv', 'w') as f:\n",
    "    [f.write('{0},{1}\\n'.format(key, value)) for key, value in polls.items()]"
   ]
  },
  {
   "cell_type": "code",
   "execution_count": 6,
   "metadata": {},
   "outputs": [
    {
     "name": "stdout",
     "output_type": "stream",
     "text": [
      "Done\n"
     ]
    }
   ],
   "source": [
    "print('Done')"
   ]
  },
  {
   "cell_type": "code",
   "execution_count": 7,
   "metadata": {},
   "outputs": [
    {
     "data": {
      "image/png": "[encoded data removed]",
      "text/plain": [
       "<Figure size 432x288 with 1 Axes>"
      ]
     },
     "metadata": {
      "needs_background": "light"
     },
     "output_type": "display_data"
    }
   ],
   "source": [
    "import matplotlib.pyplot as plt\n",
    "z = ['-7.4', '5.1', '-0.308436908', '1.7', '2.7', '-13.9', '1.314648352', '-8.9', '3.858889869', '-2.548351406', '-7.7', '-2.2', '-8.1', '-1.1', '-16.58648245', '-11.99357074', '-0.979991932', '-5.5', '-2.393510199', '-5.743879167', '-10', '-4.255753574', '-9.143065338', '-1.802229933', '-1', '-6', '-14', '10', '-9.306812838', '-10.14802189', '-4.4', '-4.3', '-2.6', '-19.33192372', '-12.5', '11.39179314', '-10.13330644', '-9.710104255', '-11.22900123', '-4.596605665', '2.384870343', '-1.428040152', '-5.6', '-4.644831589', '-7.4', '-4.786857725', '-15.18991563', '-6.868187772', '2.8', '-27.5', '2.1', '-25.4', '-15.16254264', '-11.79985211', '-13.09007101', '-5.797273862', '-15.2', '-2.243315816', '-10.51104932', '-10.60209063', '-11.40211149', '-23.4', '-0.9', '-6.457718146', '-5.42073582', '9.287596021', '-19.6', '-6.909346717', '-6.6', '-16.1', '-11.79601296', '-7.671148855', '-3.992969417', '-1', '-4.27010199', '-2.925702461', '-15.65796686', '-4.345052532', '2.069739777', '-9.5', '0.7', '-0.7', '-0.8', '-1.651363386', '-18', '0.8', '-1.800575145', '-1.578083142', '2.60029577', '-14.23574983', '-0.066715962', '-3.192472596', '-11.67119073', '-0.666724335', '0.9', '-13.48208627', '-3.859392066', '4.294698378', '-2.907422271', '-3.577762926', '-12.1']\n",
    "z = [float(rep) for rep in z]\n",
    "plt.hist(z)\n",
    "plt.show()"
   ]
  },
  {
   "cell_type": "code",
   "execution_count": null,
   "metadata": {},
   "outputs": [],
   "source": [
    "    "
   ]
  }
 ],
 "metadata": {
  "kernelspec": {
   "display_name": "Python 3",
   "language": "python",
   "name": "python3"
  },
  "language_info": {
   "codemirror_mode": {
    "name": "ipython",
    "version": 3
   },
   "file_extension": ".py",
   "mimetype": "text/x-python",
   "name": "python",
   "nbconvert_exporter": "python",
   "pygments_lexer": "ipython3",
   "version": "3.7.0"
  }
 },
 "nbformat": 4,
 "nbformat_minor": 2
}
